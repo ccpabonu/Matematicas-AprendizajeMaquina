{
 "cells": [
  {
   "cell_type": "markdown",
   "id": "e8adc670",
   "metadata": {},
   "source": [
    "# Librerias"
   ]
  },
  {
   "cell_type": "code",
   "execution_count": 1,
   "id": "71f059aa",
   "metadata": {},
   "outputs": [],
   "source": [
    "using CSV\n",
    "using DataFrames\n",
    "using ScikitLearn: fit!,predict,@sk_import\n",
    "using ScikitLearn.CrossValidation: train_test_split\n",
    "using Plots"
   ]
  },
  {
   "cell_type": "markdown",
   "id": "93b17ff4",
   "metadata": {},
   "source": [
    "# Cargar datos\n",
    "\n",
    "Cargo $X$ como los 60 valores y $y$ como la etiqueta, la cual si hay mina = $1$, si hay roca =$0$"
   ]
  },
  {
   "cell_type": "code",
   "execution_count": 2,
   "id": "8ab88759",
   "metadata": {},
   "outputs": [
    {
     "data": {
      "text/html": [
       "<div class=\"data-frame\"><p>208 rows × 1 columns</p><table class=\"data-frame\"><thead><tr><th></th><th>Class</th></tr><tr><th></th><th title=\"Int16\">Int16</th></tr></thead><tbody><tr><th>1</th><td>0</td></tr><tr><th>2</th><td>0</td></tr><tr><th>3</th><td>0</td></tr><tr><th>4</th><td>0</td></tr><tr><th>5</th><td>0</td></tr><tr><th>6</th><td>0</td></tr><tr><th>7</th><td>0</td></tr><tr><th>8</th><td>0</td></tr><tr><th>9</th><td>0</td></tr><tr><th>10</th><td>0</td></tr><tr><th>11</th><td>0</td></tr><tr><th>12</th><td>0</td></tr><tr><th>13</th><td>0</td></tr><tr><th>14</th><td>0</td></tr><tr><th>15</th><td>0</td></tr><tr><th>16</th><td>0</td></tr><tr><th>17</th><td>0</td></tr><tr><th>18</th><td>0</td></tr><tr><th>19</th><td>0</td></tr><tr><th>20</th><td>0</td></tr><tr><th>21</th><td>0</td></tr><tr><th>22</th><td>0</td></tr><tr><th>23</th><td>0</td></tr><tr><th>24</th><td>0</td></tr><tr><th>25</th><td>0</td></tr><tr><th>26</th><td>0</td></tr><tr><th>27</th><td>0</td></tr><tr><th>28</th><td>0</td></tr><tr><th>29</th><td>0</td></tr><tr><th>30</th><td>0</td></tr><tr><th>&vellip;</th><td>&vellip;</td></tr></tbody></table></div>"
      ],
      "text/latex": [
       "\\begin{tabular}{r|c}\n",
       "\t& Class\\\\\n",
       "\t\\hline\n",
       "\t& Int16\\\\\n",
       "\t\\hline\n",
       "\t1 & 0 \\\\\n",
       "\t2 & 0 \\\\\n",
       "\t3 & 0 \\\\\n",
       "\t4 & 0 \\\\\n",
       "\t5 & 0 \\\\\n",
       "\t6 & 0 \\\\\n",
       "\t7 & 0 \\\\\n",
       "\t8 & 0 \\\\\n",
       "\t9 & 0 \\\\\n",
       "\t10 & 0 \\\\\n",
       "\t11 & 0 \\\\\n",
       "\t12 & 0 \\\\\n",
       "\t13 & 0 \\\\\n",
       "\t14 & 0 \\\\\n",
       "\t15 & 0 \\\\\n",
       "\t16 & 0 \\\\\n",
       "\t17 & 0 \\\\\n",
       "\t18 & 0 \\\\\n",
       "\t19 & 0 \\\\\n",
       "\t20 & 0 \\\\\n",
       "\t21 & 0 \\\\\n",
       "\t22 & 0 \\\\\n",
       "\t23 & 0 \\\\\n",
       "\t24 & 0 \\\\\n",
       "\t25 & 0 \\\\\n",
       "\t26 & 0 \\\\\n",
       "\t27 & 0 \\\\\n",
       "\t28 & 0 \\\\\n",
       "\t29 & 0 \\\\\n",
       "\t30 & 0 \\\\\n",
       "\t$\\dots$ & $\\dots$ \\\\\n",
       "\\end{tabular}\n"
      ],
      "text/plain": [
       "\u001b[1m208×1 DataFrame\u001b[0m\n",
       "\u001b[1m Row \u001b[0m│\u001b[1m Class \u001b[0m\n",
       "\u001b[1m     \u001b[0m│\u001b[90m Int16 \u001b[0m\n",
       "─────┼───────\n",
       "   1 │     0\n",
       "   2 │     0\n",
       "   3 │     0\n",
       "   4 │     0\n",
       "   5 │     0\n",
       "   6 │     0\n",
       "   7 │     0\n",
       "   8 │     0\n",
       "   9 │     0\n",
       "  10 │     0\n",
       "  11 │     0\n",
       "  ⋮  │   ⋮\n",
       " 199 │     1\n",
       " 200 │     1\n",
       " 201 │     1\n",
       " 202 │     1\n",
       " 203 │     1\n",
       " 204 │     1\n",
       " 205 │     1\n",
       " 206 │     1\n",
       " 207 │     1\n",
       " 208 │     1\n",
       "\u001b[36m187 rows omitted\u001b[0m"
      ]
     },
     "execution_count": 2,
     "metadata": {},
     "output_type": "execute_result"
    }
   ],
   "source": [
    "dataSonar = CSV.read(\"Data/sonar.csv\",DataFrame;  header=0);\n",
    "rename!(dataSonar, :Column61 => :Class)\n",
    "dataSonar.Class .= replace.(dataSonar.Class, r\"M\" => 1)\n",
    "dataSonar.Class .= replace.(dataSonar.Class, r\"R\" => 0)\n",
    "dataSonar.Class = parse.(Int16, dataSonar.Class)\n",
    "X = select(dataSonar, Not(:Class))\n",
    "y = select(dataSonar, :Class)\n",
    "\n"
   ]
  },
  {
   "cell_type": "markdown",
   "id": "78d7e85c",
   "metadata": {},
   "source": [
    "# Analisis de los datos"
   ]
  },
  {
   "cell_type": "code",
   "execution_count": 3,
   "id": "69428fe0",
   "metadata": {},
   "outputs": [
    {
     "data": {
      "image/svg+xml": [
       "<?xml version=\"1.0\" encoding=\"utf-8\"?>\n",
       "<svg xmlns=\"http://www.w3.org/2000/svg\" xmlns:xlink=\"http://www.w3.org/1999/xlink\" width=\"600\" height=\"400\" viewBox=\"0 0 2400 1600\">\n",
       "<defs>\n",
       "  <clipPath id=\"clip370\">\n",
       "    <rect x=\"0\" y=\"0\" width=\"2400\" height=\"1600\"/>\n",
       "  </clipPath>\n",
       "</defs>\n",
       "<path clip-path=\"url(#clip370)\" d=\"\n",
       "M0 1600 L2400 1600 L2400 0 L0 0  Z\n",
       "  \" fill=\"#ffffff\" fill-rule=\"evenodd\" fill-opacity=\"1\"/>\n",
       "<defs>\n",
       "  <clipPath id=\"clip371\">\n",
       "    <rect x=\"480\" y=\"0\" width=\"1681\" height=\"1600\"/>\n",
       "  </clipPath>\n",
       "</defs>\n",
       "<path clip-path=\"url(#clip370)\" d=\"\n",
       "M169.121 1486.45 L2352.76 1486.45 L2352.76 47.2441 L169.121 47.2441  Z\n",
       "  \" fill=\"#ffffff\" fill-rule=\"evenodd\" fill-opacity=\"1\"/>\n",
       "<defs>\n",
       "  <clipPath id=\"clip372\">\n",
       "    <rect x=\"169\" y=\"47\" width=\"2185\" height=\"1440\"/>\n",
       "  </clipPath>\n",
       "</defs>\n",
       "<polyline clip-path=\"url(#clip372)\" style=\"stroke:#000000; stroke-linecap:butt; stroke-linejoin:round; stroke-width:2; stroke-opacity:0.1; fill:none\" points=\"\n",
       "  721.098,1486.45 721.098,47.2441 \n",
       "  \"/>\n",
       "<polyline clip-path=\"url(#clip372)\" style=\"stroke:#000000; stroke-linecap:butt; stroke-linejoin:round; stroke-width:2; stroke-opacity:0.1; fill:none\" points=\"\n",
       "  1800.78,1486.45 1800.78,47.2441 \n",
       "  \"/>\n",
       "<polyline clip-path=\"url(#clip370)\" style=\"stroke:#000000; stroke-linecap:butt; stroke-linejoin:round; stroke-width:4; stroke-opacity:1; fill:none\" points=\"\n",
       "  169.121,1486.45 2352.76,1486.45 \n",
       "  \"/>\n",
       "<polyline clip-path=\"url(#clip370)\" style=\"stroke:#000000; stroke-linecap:butt; stroke-linejoin:round; stroke-width:4; stroke-opacity:1; fill:none\" points=\"\n",
       "  721.098,1486.45 721.098,1467.55 \n",
       "  \"/>\n",
       "<polyline clip-path=\"url(#clip370)\" style=\"stroke:#000000; stroke-linecap:butt; stroke-linejoin:round; stroke-width:4; stroke-opacity:1; fill:none\" points=\"\n",
       "  1800.78,1486.45 1800.78,1467.55 \n",
       "  \"/>\n",
       "<path clip-path=\"url(#clip370)\" d=\"M721.098 1517.37 Q717.487 1517.37 715.658 1520.93 Q713.852 1524.47 713.852 1531.6 Q713.852 1538.71 715.658 1542.27 Q717.487 1545.82 721.098 1545.82 Q724.732 1545.82 726.538 1542.27 Q728.366 1538.71 728.366 1531.6 Q728.366 1524.47 726.538 1520.93 Q724.732 1517.37 721.098 1517.37 M721.098 1513.66 Q726.908 1513.66 729.963 1518.27 Q733.042 1522.85 733.042 1531.6 Q733.042 1540.33 729.963 1544.94 Q726.908 1549.52 721.098 1549.52 Q715.288 1549.52 712.209 1544.94 Q709.153 1540.33 709.153 1531.6 Q709.153 1522.85 712.209 1518.27 Q715.288 1513.66 721.098 1513.66 Z\" fill=\"#000000\" fill-rule=\"evenodd\" fill-opacity=\"1\" /><path clip-path=\"url(#clip370)\" d=\"M1791.16 1544.91 L1798.8 1544.91 L1798.8 1518.55 L1790.49 1520.21 L1790.49 1515.95 L1798.75 1514.29 L1803.43 1514.29 L1803.43 1544.91 L1811.07 1544.91 L1811.07 1548.85 L1791.16 1548.85 L1791.16 1544.91 Z\" fill=\"#000000\" fill-rule=\"evenodd\" fill-opacity=\"1\" /><polyline clip-path=\"url(#clip372)\" style=\"stroke:#000000; stroke-linecap:butt; stroke-linejoin:round; stroke-width:2; stroke-opacity:0.1; fill:none\" points=\"\n",
       "  169.121,1445.72 2352.76,1445.72 \n",
       "  \"/>\n",
       "<polyline clip-path=\"url(#clip372)\" style=\"stroke:#000000; stroke-linecap:butt; stroke-linejoin:round; stroke-width:2; stroke-opacity:0.1; fill:none\" points=\"\n",
       "  169.121,1139.92 2352.76,1139.92 \n",
       "  \"/>\n",
       "<polyline clip-path=\"url(#clip372)\" style=\"stroke:#000000; stroke-linecap:butt; stroke-linejoin:round; stroke-width:2; stroke-opacity:0.1; fill:none\" points=\"\n",
       "  169.121,834.121 2352.76,834.121 \n",
       "  \"/>\n",
       "<polyline clip-path=\"url(#clip372)\" style=\"stroke:#000000; stroke-linecap:butt; stroke-linejoin:round; stroke-width:2; stroke-opacity:0.1; fill:none\" points=\"\n",
       "  169.121,528.324 2352.76,528.324 \n",
       "  \"/>\n",
       "<polyline clip-path=\"url(#clip372)\" style=\"stroke:#000000; stroke-linecap:butt; stroke-linejoin:round; stroke-width:2; stroke-opacity:0.1; fill:none\" points=\"\n",
       "  169.121,222.527 2352.76,222.527 \n",
       "  \"/>\n",
       "<polyline clip-path=\"url(#clip370)\" style=\"stroke:#000000; stroke-linecap:butt; stroke-linejoin:round; stroke-width:4; stroke-opacity:1; fill:none\" points=\"\n",
       "  169.121,1486.45 169.121,47.2441 \n",
       "  \"/>\n",
       "<polyline clip-path=\"url(#clip370)\" style=\"stroke:#000000; stroke-linecap:butt; stroke-linejoin:round; stroke-width:4; stroke-opacity:1; fill:none\" points=\"\n",
       "  169.121,1445.72 188.019,1445.72 \n",
       "  \"/>\n",
       "<polyline clip-path=\"url(#clip370)\" style=\"stroke:#000000; stroke-linecap:butt; stroke-linejoin:round; stroke-width:4; stroke-opacity:1; fill:none\" points=\"\n",
       "  169.121,1139.92 188.019,1139.92 \n",
       "  \"/>\n",
       "<polyline clip-path=\"url(#clip370)\" style=\"stroke:#000000; stroke-linecap:butt; stroke-linejoin:round; stroke-width:4; stroke-opacity:1; fill:none\" points=\"\n",
       "  169.121,834.121 188.019,834.121 \n",
       "  \"/>\n",
       "<polyline clip-path=\"url(#clip370)\" style=\"stroke:#000000; stroke-linecap:butt; stroke-linejoin:round; stroke-width:4; stroke-opacity:1; fill:none\" points=\"\n",
       "  169.121,528.324 188.019,528.324 \n",
       "  \"/>\n",
       "<polyline clip-path=\"url(#clip370)\" style=\"stroke:#000000; stroke-linecap:butt; stroke-linejoin:round; stroke-width:4; stroke-opacity:1; fill:none\" points=\"\n",
       "  169.121,222.527 188.019,222.527 \n",
       "  \"/>\n",
       "<path clip-path=\"url(#clip370)\" d=\"M121.177 1431.51 Q117.566 1431.51 115.737 1435.08 Q113.932 1438.62 113.932 1445.75 Q113.932 1452.86 115.737 1456.42 Q117.566 1459.96 121.177 1459.96 Q124.811 1459.96 126.617 1456.42 Q128.445 1452.86 128.445 1445.75 Q128.445 1438.62 126.617 1435.08 Q124.811 1431.51 121.177 1431.51 M121.177 1427.81 Q126.987 1427.81 130.043 1432.42 Q133.121 1437 133.121 1445.75 Q133.121 1454.48 130.043 1459.08 Q126.987 1463.67 121.177 1463.67 Q115.367 1463.67 112.288 1459.08 Q109.233 1454.48 109.233 1445.75 Q109.233 1437 112.288 1432.42 Q115.367 1427.81 121.177 1427.81 Z\" fill=\"#000000\" fill-rule=\"evenodd\" fill-opacity=\"1\" /><path clip-path=\"url(#clip370)\" d=\"M86.0382 1153.26 L102.358 1153.26 L102.358 1157.2 L80.4133 1157.2 L80.4133 1153.26 Q83.0753 1150.51 87.6586 1145.88 Q92.2651 1141.23 93.4456 1139.88 Q95.691 1137.36 96.5706 1135.62 Q97.4734 1133.87 97.4734 1132.18 Q97.4734 1129.42 95.5289 1127.68 Q93.6076 1125.95 90.5058 1125.95 Q88.3067 1125.95 85.8531 1126.71 Q83.4225 1127.48 80.6447 1129.03 L80.6447 1124.31 Q83.4688 1123.17 85.9225 1122.59 Q88.3762 1122.01 90.4132 1122.01 Q95.7836 1122.01 98.978 1124.7 Q102.172 1127.38 102.172 1131.87 Q102.172 1134 101.362 1135.93 Q100.575 1137.82 98.4687 1140.42 Q97.89 1141.09 94.7882 1144.31 Q91.6864 1147.5 86.0382 1153.26 Z\" fill=\"#000000\" fill-rule=\"evenodd\" fill-opacity=\"1\" /><path clip-path=\"url(#clip370)\" d=\"M112.219 1122.64 L130.575 1122.64 L130.575 1126.57 L116.501 1126.57 L116.501 1135.05 Q117.52 1134.7 118.538 1134.54 Q119.557 1134.35 120.575 1134.35 Q126.362 1134.35 129.742 1137.52 Q133.121 1140.69 133.121 1146.11 Q133.121 1151.69 129.649 1154.79 Q126.177 1157.87 119.857 1157.87 Q117.682 1157.87 115.413 1157.5 Q113.168 1157.13 110.76 1156.39 L110.76 1151.69 Q112.844 1152.82 115.066 1153.38 Q117.288 1153.93 119.765 1153.93 Q123.77 1153.93 126.107 1151.83 Q128.445 1149.72 128.445 1146.11 Q128.445 1142.5 126.107 1140.39 Q123.77 1138.29 119.765 1138.29 Q117.89 1138.29 116.015 1138.7 Q114.163 1139.12 112.219 1140 L112.219 1122.64 Z\" fill=\"#000000\" fill-rule=\"evenodd\" fill-opacity=\"1\" /><path clip-path=\"url(#clip370)\" d=\"M81.0614 816.841 L99.4178 816.841 L99.4178 820.777 L85.3438 820.777 L85.3438 829.249 Q86.3623 828.901 87.3808 828.739 Q88.3993 828.554 89.4178 828.554 Q95.2049 828.554 98.5845 831.726 Q101.964 834.897 101.964 840.313 Q101.964 845.892 98.4919 848.994 Q95.0197 852.073 88.7003 852.073 Q86.5243 852.073 84.2558 851.702 Q82.0105 851.332 79.6031 850.591 L79.6031 845.892 Q81.6864 847.026 83.9086 847.582 Q86.1308 848.137 88.6077 848.137 Q92.6123 848.137 94.9502 846.031 Q97.2882 843.925 97.2882 840.313 Q97.2882 836.702 94.9502 834.596 Q92.6123 832.489 88.6077 832.489 Q86.7327 832.489 84.8577 832.906 Q83.0058 833.323 81.0614 834.202 L81.0614 816.841 Z\" fill=\"#000000\" fill-rule=\"evenodd\" fill-opacity=\"1\" /><path clip-path=\"url(#clip370)\" d=\"M121.177 819.92 Q117.566 819.92 115.737 823.485 Q113.932 827.026 113.932 834.156 Q113.932 841.263 115.737 844.827 Q117.566 848.369 121.177 848.369 Q124.811 848.369 126.617 844.827 Q128.445 841.263 128.445 834.156 Q128.445 827.026 126.617 823.485 Q124.811 819.92 121.177 819.92 M121.177 816.216 Q126.987 816.216 130.043 820.823 Q133.121 825.406 133.121 834.156 Q133.121 842.883 130.043 847.489 Q126.987 852.073 121.177 852.073 Q115.367 852.073 112.288 847.489 Q109.233 842.883 109.233 834.156 Q109.233 825.406 112.288 820.823 Q115.367 816.216 121.177 816.216 Z\" fill=\"#000000\" fill-rule=\"evenodd\" fill-opacity=\"1\" /><path clip-path=\"url(#clip370)\" d=\"M80.8299 511.044 L103.052 511.044 L103.052 513.035 L90.5058 545.604 L85.6216 545.604 L97.4271 514.979 L80.8299 514.979 L80.8299 511.044 Z\" fill=\"#000000\" fill-rule=\"evenodd\" fill-opacity=\"1\" /><path clip-path=\"url(#clip370)\" d=\"M112.219 511.044 L130.575 511.044 L130.575 514.979 L116.501 514.979 L116.501 523.452 Q117.52 523.104 118.538 522.942 Q119.557 522.757 120.575 522.757 Q126.362 522.757 129.742 525.928 Q133.121 529.1 133.121 534.516 Q133.121 540.095 129.649 543.197 Q126.177 546.275 119.857 546.275 Q117.682 546.275 115.413 545.905 Q113.168 545.535 110.76 544.794 L110.76 540.095 Q112.844 541.229 115.066 541.785 Q117.288 542.34 119.765 542.34 Q123.77 542.34 126.107 540.234 Q128.445 538.127 128.445 534.516 Q128.445 530.905 126.107 528.799 Q123.77 526.692 119.765 526.692 Q117.89 526.692 116.015 527.109 Q114.163 527.526 112.219 528.405 L112.219 511.044 Z\" fill=\"#000000\" fill-rule=\"evenodd\" fill-opacity=\"1\" /><path clip-path=\"url(#clip370)\" d=\"M51.6634 235.872 L59.3023 235.872 L59.3023 209.506 L50.9921 211.173 L50.9921 206.914 L59.256 205.247 L63.9319 205.247 L63.9319 235.872 L71.5707 235.872 L71.5707 239.807 L51.6634 239.807 L51.6634 235.872 Z\" fill=\"#000000\" fill-rule=\"evenodd\" fill-opacity=\"1\" /><path clip-path=\"url(#clip370)\" d=\"M91.0151 208.326 Q87.404 208.326 85.5753 211.891 Q83.7697 215.432 83.7697 222.562 Q83.7697 229.668 85.5753 233.233 Q87.404 236.775 91.0151 236.775 Q94.6493 236.775 96.4548 233.233 Q98.2835 229.668 98.2835 222.562 Q98.2835 215.432 96.4548 211.891 Q94.6493 208.326 91.0151 208.326 M91.0151 204.622 Q96.8252 204.622 99.8808 209.228 Q102.959 213.812 102.959 222.562 Q102.959 231.289 99.8808 235.895 Q96.8252 240.478 91.0151 240.478 Q85.2049 240.478 82.1262 235.895 Q79.0707 231.289 79.0707 222.562 Q79.0707 213.812 82.1262 209.228 Q85.2049 204.622 91.0151 204.622 Z\" fill=\"#000000\" fill-rule=\"evenodd\" fill-opacity=\"1\" /><path clip-path=\"url(#clip370)\" d=\"M121.177 208.326 Q117.566 208.326 115.737 211.891 Q113.932 215.432 113.932 222.562 Q113.932 229.668 115.737 233.233 Q117.566 236.775 121.177 236.775 Q124.811 236.775 126.617 233.233 Q128.445 229.668 128.445 222.562 Q128.445 215.432 126.617 211.891 Q124.811 208.326 121.177 208.326 M121.177 204.622 Q126.987 204.622 130.043 209.228 Q133.121 213.812 133.121 222.562 Q133.121 231.289 130.043 235.895 Q126.987 240.478 121.177 240.478 Q115.367 240.478 112.288 235.895 Q109.233 231.289 109.233 222.562 Q109.233 213.812 112.288 209.228 Q115.367 204.622 121.177 204.622 Z\" fill=\"#000000\" fill-rule=\"evenodd\" fill-opacity=\"1\" /><path clip-path=\"url(#clip372)\" d=\"\n",
       "M289.225 259.223 L289.225 1445.72 L1152.97 1445.72 L1152.97 259.223 L289.225 259.223 L289.225 259.223  Z\n",
       "  \" fill=\"#009af9\" fill-rule=\"evenodd\" fill-opacity=\"1\"/>\n",
       "<polyline clip-path=\"url(#clip372)\" style=\"stroke:#000000; stroke-linecap:butt; stroke-linejoin:round; stroke-width:4; stroke-opacity:1; fill:none\" points=\"\n",
       "  289.225,259.223 289.225,1445.72 1152.97,1445.72 1152.97,259.223 289.225,259.223 \n",
       "  \"/>\n",
       "<path clip-path=\"url(#clip372)\" d=\"\n",
       "M1368.91 87.9763 L1368.91 1445.72 L2232.65 1445.72 L2232.65 87.9763 L1368.91 87.9763 L1368.91 87.9763  Z\n",
       "  \" fill=\"#009af9\" fill-rule=\"evenodd\" fill-opacity=\"1\"/>\n",
       "<polyline clip-path=\"url(#clip372)\" style=\"stroke:#000000; stroke-linecap:butt; stroke-linejoin:round; stroke-width:4; stroke-opacity:1; fill:none\" points=\"\n",
       "  1368.91,87.9763 1368.91,1445.72 2232.65,1445.72 2232.65,87.9763 1368.91,87.9763 \n",
       "  \"/>\n",
       "<circle clip-path=\"url(#clip372)\" style=\"fill:#009af9; stroke:none; fill-opacity:0\" cx=\"721.098\" cy=\"259.223\" r=\"2\"/>\n",
       "<circle clip-path=\"url(#clip372)\" style=\"fill:#009af9; stroke:none; fill-opacity:0\" cx=\"1800.78\" cy=\"87.9763\" r=\"2\"/>\n",
       "<path clip-path=\"url(#clip370)\" d=\"\n",
       "M1984.91 198.898 L2279.97 198.898 L2279.97 95.2176 L1984.91 95.2176  Z\n",
       "  \" fill=\"#ffffff\" fill-rule=\"evenodd\" fill-opacity=\"1\"/>\n",
       "<polyline clip-path=\"url(#clip370)\" style=\"stroke:#000000; stroke-linecap:butt; stroke-linejoin:round; stroke-width:4; stroke-opacity:1; fill:none\" points=\"\n",
       "  1984.91,198.898 2279.97,198.898 2279.97,95.2176 1984.91,95.2176 1984.91,198.898 \n",
       "  \"/>\n",
       "<path clip-path=\"url(#clip370)\" d=\"\n",
       "M2009.17 167.794 L2154.75 167.794 L2154.75 126.322 L2009.17 126.322 L2009.17 167.794  Z\n",
       "  \" fill=\"#009af9\" fill-rule=\"evenodd\" fill-opacity=\"1\"/>\n",
       "<polyline clip-path=\"url(#clip370)\" style=\"stroke:#000000; stroke-linecap:butt; stroke-linejoin:round; stroke-width:4; stroke-opacity:1; fill:none\" points=\"\n",
       "  2009.17,167.794 2154.75,167.794 2154.75,126.322 2009.17,126.322 2009.17,167.794 \n",
       "  \"/>\n",
       "<path clip-path=\"url(#clip370)\" d=\"M2192.86 166.745 Q2191.05 171.375 2189.34 172.787 Q2187.62 174.199 2184.75 174.199 L2181.35 174.199 L2181.35 170.634 L2183.85 170.634 Q2185.61 170.634 2186.58 169.8 Q2187.55 168.967 2188.73 165.865 L2189.5 163.921 L2179.01 138.412 L2183.53 138.412 L2191.63 158.689 L2199.73 138.412 L2204.24 138.412 L2192.86 166.745 Z\" fill=\"#000000\" fill-rule=\"evenodd\" fill-opacity=\"1\" /><path clip-path=\"url(#clip370)\" d=\"M2211.54 160.402 L2219.17 160.402 L2219.17 134.037 L2210.86 135.703 L2210.86 131.444 L2219.13 129.778 L2223.8 129.778 L2223.8 160.402 L2231.44 160.402 L2231.44 164.338 L2211.54 164.338 L2211.54 160.402 Z\" fill=\"#000000\" fill-rule=\"evenodd\" fill-opacity=\"1\" /></svg>\n"
      ]
     },
     "execution_count": 3,
     "metadata": {},
     "output_type": "execute_result"
    }
   ],
   "source": [
    "y_2= combine(groupby(y, :Class), nrow => :Freq)\n",
    "bar([\"0\", \"1\"], y_2.Freq)"
   ]
  },
  {
   "cell_type": "markdown",
   "id": "a0fb83c1",
   "metadata": {},
   "source": [
    "# Separar los datos\n",
    "Separo los datos en 3 tipos aleatoriamente Test, Train y Validate pues son valores no balanceados.\\\n",
    "Estandarizamos nuestros datos para evitar el manejo de diferentes escalas en nuestros datos.\\\n",
    "Estandarizamos las características eliminando la media y escalando a la varianza de la unidad.\\\n",
    "La estandarización de una muestra $x$ donde la media es $u$ y la desviación estándar es $s$ se calcula como:\n",
    "$$\n",
    "z=\\frac{(x-u)}{s}\n",
    "$$"
   ]
  },
  {
   "cell_type": "code",
   "execution_count": 4,
   "id": "ea783992",
   "metadata": {},
   "outputs": [
    {
     "data": {
      "text/html": [
       "<div class=\"data-frame\"><p>2 rows × 2 columns</p><table class=\"data-frame\"><thead><tr><th></th><th>x1</th><th>Freq</th></tr><tr><th></th><th title=\"Int16\">Int16</th><th title=\"Int64\">Int64</th></tr></thead><tbody><tr><th>1</th><td>0</td><td>60</td></tr><tr><th>2</th><td>1</td><td>64</td></tr></tbody></table></div>"
      ],
      "text/latex": [
       "\\begin{tabular}{r|cc}\n",
       "\t& x1 & Freq\\\\\n",
       "\t\\hline\n",
       "\t& Int16 & Int64\\\\\n",
       "\t\\hline\n",
       "\t1 & 0 & 60 \\\\\n",
       "\t2 & 1 & 64 \\\\\n",
       "\\end{tabular}\n"
      ],
      "text/plain": [
       "\u001b[1m2×2 DataFrame\u001b[0m\n",
       "\u001b[1m Row \u001b[0m│\u001b[1m x1    \u001b[0m\u001b[1m Freq  \u001b[0m\n",
       "\u001b[1m     \u001b[0m│\u001b[90m Int16 \u001b[0m\u001b[90m Int64 \u001b[0m\n",
       "─────┼──────────────\n",
       "   1 │     0     60\n",
       "   2 │     1     64"
      ]
     },
     "execution_count": 4,
     "metadata": {},
     "output_type": "execute_result"
    }
   ],
   "source": [
    "@sk_import preprocessing: StandardScaler\n",
    "\n",
    "ymatrix = Array(y)\n",
    "Xmatrix = Array(X)\n",
    "\n",
    "\n",
    "X_train, X_test, y_train, y_test = train_test_split(Xmatrix, ymatrix, test_size=0.2, random_state=42, stratify=ymatrix)\n",
    "X_train, X_val, y_train, y_val = train_test_split(X_train, y_train, test_size=0.25, random_state=42)\n",
    "\n",
    "scaler = StandardScaler()\n",
    "\n",
    "X_train = scaler.fit_transform(X_train) \n",
    "X_test = scaler.transform(X_test) #Usamos la media y desviacion estandar de X_train en los datos \"nuevos\" X_test para normalizar\n",
    "y2DF= DataFrame(y_train, :auto)\n",
    "y2= combine(groupby(y2DF, :1), nrow => :Freq)\n"
   ]
  },
  {
   "cell_type": "markdown",
   "id": "9ff3f29e",
   "metadata": {},
   "source": [
    "# Linear Regression"
   ]
  },
  {
   "cell_type": "code",
   "execution_count": 5,
   "id": "67ddbd93",
   "metadata": {},
   "outputs": [],
   "source": [
    "@sk_import linear_model: LinearRegression\n",
    "modelLnR = LinearRegression()\n",
    "modelLnR.fit(X_train, y_train)\n",
    "\n",
    "predictions = modelLnR.predict(X_test)\n",
    "#Convertimos a 0 o 1\n",
    "prediction_class = [if x < 0.5 0 else 1 end for x in predictions];"
   ]
  },
  {
   "cell_type": "markdown",
   "id": "fb5102a7",
   "metadata": {},
   "source": [
    "Revisaremos la precisión comparando los valores reales y los valores previstos."
   ]
  },
  {
   "cell_type": "code",
   "execution_count": 6,
   "id": "7885fbda",
   "metadata": {},
   "outputs": [
    {
     "name": "stdout",
     "output_type": "stream",
     "text": [
      "True Positive(TP)  = 18\n",
      "False Positive(FP) = 4\n",
      "True Negative(TN)  = 15\n",
      "False Negative(FN) = 5\n",
      "Accuracy of the binary classification = 0.7857142857142857"
     ]
    }
   ],
   "source": [
    "@sk_import metrics : confusion_matrix\n",
    "\n",
    "TN, FP, FN, TP = confusion_matrix(y_test, prediction_class)\n",
    "\n",
    "\n",
    "println(\"True Positive(TP)  = $(TP)\")\n",
    "println(\"False Positive(FP) = $(FP)\")\n",
    "println(\"True Negative(TN)  = $(TN)\")\n",
    "println(\"False Negative(FN) = $(FN)\")\n",
    "\n",
    "accuracyLnR =  (TP+TN) /(TP+FP+TN+FN)\n",
    "print(\"Accuracy of the binary classification = $(accuracyLnR)\")\n"
   ]
  },
  {
   "cell_type": "markdown",
   "id": "20a49086",
   "metadata": {},
   "source": [
    "# Logistic Regression"
   ]
  },
  {
   "cell_type": "code",
   "execution_count": 7,
   "id": "81746c23",
   "metadata": {},
   "outputs": [
    {
     "name": "stderr",
     "output_type": "stream",
     "text": [
      "C:\\Users\\Christian Pabon\\AppData\\Roaming\\Python\\Python39\\site-packages\\sklearn\\utils\\validation.py:993: DataConversionWarning: A column-vector y was passed when a 1d array was expected. Please change the shape of y to (n_samples, ), for example using ravel().\r\n",
      "  y = column_or_1d(y, warn=True)\r\n"
     ]
    }
   ],
   "source": [
    "@sk_import linear_model: LogisticRegression\n",
    "modelLR = LogisticRegression()\n",
    "modelLR.fit(X_train, y_train)\n",
    "\n",
    "predictions = modelLR.predict(X_test)\n",
    "#Convertimos a 0 o 1\n",
    "prediction_class = [if x < 0.5 0 else 1 end for x in predictions];"
   ]
  },
  {
   "cell_type": "markdown",
   "id": "ea716db7",
   "metadata": {},
   "source": [
    "Revisaremos la precisión comparando los valores reales y los valores previstos."
   ]
  },
  {
   "cell_type": "code",
   "execution_count": 8,
   "id": "8c00e62e",
   "metadata": {},
   "outputs": [
    {
     "name": "stdout",
     "output_type": "stream",
     "text": [
      "True Positive(TP)  = 16\n",
      "False Positive(FP) = 6\n",
      "True Negative(TN)  = 16\n",
      "False Negative(FN) = 4\n",
      "Accuracy of the binary classification = 0.7619047619047619"
     ]
    }
   ],
   "source": [
    "TN, FP, FN, TP = confusion_matrix(y_test, prediction_class)\n",
    "\n",
    "\n",
    "println(\"True Positive(TP)  = $(TP)\")\n",
    "println(\"False Positive(FP) = $(FP)\")\n",
    "println(\"True Negative(TN)  = $(TN)\")\n",
    "println(\"False Negative(FN) = $(FN)\")\n",
    "\n",
    "accuracyLR =  (TP+TN) /(TP+FP+TN+FN)\n",
    "print(\"Accuracy of the binary classification = $(accuracyLR)\")"
   ]
  },
  {
   "cell_type": "markdown",
   "id": "d26be2af",
   "metadata": {},
   "source": [
    "# Support Vector Machine"
   ]
  },
  {
   "cell_type": "code",
   "execution_count": 9,
   "id": "e2ad2679",
   "metadata": {
    "scrolled": true
   },
   "outputs": [
    {
     "name": "stderr",
     "output_type": "stream",
     "text": [
      "C:\\Users\\Christian Pabon\\AppData\\Roaming\\Python\\Python39\\site-packages\\sklearn\\utils\\validation.py:993: DataConversionWarning: A column-vector y was passed when a 1d array was expected. Please change the shape of y to (n_samples, ), for example using ravel().\r\n",
      "  y = column_or_1d(y, warn=True)\r\n"
     ]
    }
   ],
   "source": [
    "@sk_import svm: SVC\n",
    "\n",
    "modelSVC = SVC()\n",
    "modelSVC.fit(X_train, y_train)\n",
    "\n",
    "predictions = modelSVC.predict(X_test)\n",
    "#Convertimos a la 0 o 1\n",
    "prediction_class = [if x < 0.5 0 else 1 end for x in predictions];"
   ]
  },
  {
   "cell_type": "markdown",
   "id": "11ad2433",
   "metadata": {},
   "source": [
    "Revisaremos la precisión comparando los valores reales y los valores previstos."
   ]
  },
  {
   "cell_type": "code",
   "execution_count": 10,
   "id": "1b33da63",
   "metadata": {},
   "outputs": [
    {
     "name": "stdout",
     "output_type": "stream",
     "text": [
      "True Positive(TP)  = 19\n",
      "False Positive(FP) = 3\n",
      "True Negative(TN)  = 16\n",
      "False Negative(FN) = 4\n",
      "Accuracy of the binary classification = 0.8333333333333334"
     ]
    }
   ],
   "source": [
    "TN, FP, FN, TP = confusion_matrix(y_test, prediction_class)\n",
    "\n",
    "\n",
    "println(\"True Positive(TP)  = $(TP)\")\n",
    "println(\"False Positive(FP) = $(FP)\")\n",
    "println(\"True Negative(TN)  = $(TN)\")\n",
    "println(\"False Negative(FN) = $(FN)\")\n",
    "\n",
    "accuracySVC =  (TP+TN) /(TP+FP+TN+FN)\n",
    "print(\"Accuracy of the binary classification = $(accuracySVC)\")"
   ]
  },
  {
   "cell_type": "markdown",
   "id": "ea5c2b25",
   "metadata": {},
   "source": [
    "# k Nearest Neighbor"
   ]
  },
  {
   "cell_type": "code",
   "execution_count": 11,
   "id": "62bb845d",
   "metadata": {},
   "outputs": [
    {
     "name": "stderr",
     "output_type": "stream",
     "text": [
      "C:\\Users\\Christian Pabon\\AppData\\Roaming\\Python\\Python39\\site-packages\\sklearn\\neighbors\\_classification.py:198: DataConversionWarning: A column-vector y was passed when a 1d array was expected. Please change the shape of y to (n_samples,), for example using ravel().\r\n",
      "  return self._fit(X, y)\r\n"
     ]
    }
   ],
   "source": [
    "@sk_import neighbors : KNeighborsClassifier\n",
    "modelKNN = KNeighborsClassifier()\n",
    "modelKNN.fit(X_train, y_train)\n",
    "\n",
    "predictions = modelKNN.predict(X_test)\n",
    "#Convertimos a 0 o 1\n",
    "prediction_classKNN = [if x < 0.5 0 else 1 end for x in predictions];"
   ]
  },
  {
   "cell_type": "markdown",
   "id": "62b7db3d",
   "metadata": {},
   "source": [
    "Revisaremos la precisión comparando los valores reales y los valores previstos."
   ]
  },
  {
   "cell_type": "code",
   "execution_count": 12,
   "id": "23b152a2",
   "metadata": {},
   "outputs": [
    {
     "name": "stdout",
     "output_type": "stream",
     "text": [
      "True Positive(TP)  = 20\n",
      "False Positive(FP) = 2\n",
      "True Negative(TN)  = 16\n",
      "False Negative(FN) = 4\n",
      "Accuracy of the binary classification = 0.8571428571428571"
     ]
    }
   ],
   "source": [
    "TN, FP, FN, TP = confusion_matrix(y_test, prediction_classKNN)\n",
    "\n",
    "println(\"True Positive(TP)  = $(TP)\")\n",
    "println(\"False Positive(FP) = $(FP)\")\n",
    "println(\"True Negative(TN)  = $(TN)\")\n",
    "println(\"False Negative(FN) = $(FN)\")\n",
    "\n",
    "accuracyKNN =  (TP+TN) /(TP+FP+TN+FN)\n",
    "print(\"Accuracy of the binary classification = $(accuracyKNN)\")"
   ]
  },
  {
   "cell_type": "markdown",
   "id": "94865a72",
   "metadata": {},
   "source": [
    "# Decision Tree"
   ]
  },
  {
   "cell_type": "code",
   "execution_count": 13,
   "id": "0b914f8f",
   "metadata": {},
   "outputs": [],
   "source": [
    "@sk_import tree : DecisionTreeClassifier\n",
    "modelDTC = DecisionTreeClassifier()\n",
    "modelDTC.fit(X_train, y_train)\n",
    "\n",
    "predictions = modelDTC.predict(X_test)\n",
    "#Convertimos a 0 o 1\n",
    "prediction_class = [if x < 0.5 0 else 1 end for x in predictions];"
   ]
  },
  {
   "cell_type": "markdown",
   "id": "82dc33a1",
   "metadata": {},
   "source": [
    "Revisaremos la precisión comparando los valores reales y los valores previstos."
   ]
  },
  {
   "cell_type": "code",
   "execution_count": 14,
   "id": "8343a5c8",
   "metadata": {},
   "outputs": [
    {
     "name": "stdout",
     "output_type": "stream",
     "text": [
      "True Positive(TP)  = 16\n",
      "False Positive(FP) = 6\n",
      "True Negative(TN)  = 15\n",
      "False Negative(FN) = 5\n",
      "Accuracy of the binary classification = 0.7380952380952381"
     ]
    }
   ],
   "source": [
    "TN, FP, FN, TP = confusion_matrix(y_test, prediction_class)\n",
    "\n",
    "\n",
    "println(\"True Positive(TP)  = $(TP)\")\n",
    "println(\"False Positive(FP) = $(FP)\")\n",
    "println(\"True Negative(TN)  = $(TN)\")\n",
    "println(\"False Negative(FN) = $(FN)\")\n",
    "\n",
    "accuracyDTC =  (TP+TN) /(TP+FP+TN+FN)\n",
    "print(\"Accuracy of the binary classification = $(accuracyDTC)\")"
   ]
  },
  {
   "cell_type": "markdown",
   "id": "28e784e9",
   "metadata": {},
   "source": [
    "# Seleccionamos el más acertado\n",
    "\n",
    "k Nearest Neighbor es el Accuracy más alto que nos generaron los datos de entrenamiento con los de prueba \\\n",
    "Ahora usaremos el modelo con los datos de Validacion y veremos la curva de ROC"
   ]
  },
  {
   "cell_type": "code",
   "execution_count": 15,
   "id": "05e86f71",
   "metadata": {},
   "outputs": [],
   "source": [
    "X_val = scaler.transform(X_val)\n",
    "\n",
    "predictions = modelKNN.predict(X_val)\n",
    "\n",
    "#Convertimos a 0 o 1\n",
    "prediction_classKNN = [if x < 0.5 0 else 1 end for x in predictions];\n"
   ]
  },
  {
   "cell_type": "code",
   "execution_count": 18,
   "id": "671e1870",
   "metadata": {},
   "outputs": [
    {
     "name": "stdout",
     "output_type": "stream",
     "text": [
      "True Positive(TP)  = 23\n",
      "False Positive(FP) = 2\n",
      "True Negative(TN)  = 14\n",
      "False Negative(FN) = 3\n",
      "Accuracy of the binary classification = 0.8809523809523809"
     ]
    }
   ],
   "source": [
    "TN, FP, FN, TP = confusion_matrix(y_val, prediction_classKNN)\n",
    "\n",
    "println(\"True Positive(TP)  = $(TP)\")\n",
    "println(\"False Positive(FP) = $(FP)\")\n",
    "println(\"True Negative(TN)  = $(TN)\")\n",
    "println(\"False Negative(FN) = $(FN)\")\n",
    "\n",
    "accuracyKNN =  (TP+TN) /(TP+FP+TN+FN)\n",
    "print(\"Accuracy of the binary classification = $(accuracyKNN)\")"
   ]
  },
  {
   "cell_type": "markdown",
   "id": "553217ec",
   "metadata": {},
   "source": [
    "# ROC curve"
   ]
  },
  {
   "cell_type": "code",
   "execution_count": 17,
   "id": "f15a5448",
   "metadata": {},
   "outputs": [
    {
     "data": {
      "image/svg+xml": [
       "<?xml version=\"1.0\" encoding=\"utf-8\"?>\n",
       "<svg xmlns=\"http://www.w3.org/2000/svg\" xmlns:xlink=\"http://www.w3.org/1999/xlink\" width=\"600\" height=\"400\" viewBox=\"0 0 2400 1600\">\n",
       "<defs>\n",
       "  <clipPath id=\"clip410\">\n",
       "    <rect x=\"0\" y=\"0\" width=\"2400\" height=\"1600\"/>\n",
       "  </clipPath>\n",
       "</defs>\n",
       "<path clip-path=\"url(#clip410)\" d=\"\n",
       "M0 1600 L2400 1600 L2400 0 L0 0  Z\n",
       "  \" fill=\"#ffffff\" fill-rule=\"evenodd\" fill-opacity=\"1\"/>\n",
       "<defs>\n",
       "  <clipPath id=\"clip411\">\n",
       "    <rect x=\"480\" y=\"0\" width=\"1681\" height=\"1600\"/>\n",
       "  </clipPath>\n",
       "</defs>\n",
       "<path clip-path=\"url(#clip410)\" d=\"\n",
       "M186.274 1486.45 L2352.76 1486.45 L2352.76 123.472 L186.274 123.472  Z\n",
       "  \" fill=\"#ffffff\" fill-rule=\"evenodd\" fill-opacity=\"1\"/>\n",
       "<defs>\n",
       "  <clipPath id=\"clip412\">\n",
       "    <rect x=\"186\" y=\"123\" width=\"2167\" height=\"1364\"/>\n",
       "  </clipPath>\n",
       "</defs>\n",
       "<polyline clip-path=\"url(#clip412)\" style=\"stroke:#000000; stroke-linecap:butt; stroke-linejoin:round; stroke-width:2; stroke-opacity:0.1; fill:none\" points=\"\n",
       "  247.59,1486.45 247.59,123.472 \n",
       "  \"/>\n",
       "<polyline clip-path=\"url(#clip412)\" style=\"stroke:#000000; stroke-linecap:butt; stroke-linejoin:round; stroke-width:2; stroke-opacity:0.1; fill:none\" points=\"\n",
       "  758.552,1486.45 758.552,123.472 \n",
       "  \"/>\n",
       "<polyline clip-path=\"url(#clip412)\" style=\"stroke:#000000; stroke-linecap:butt; stroke-linejoin:round; stroke-width:2; stroke-opacity:0.1; fill:none\" points=\"\n",
       "  1269.51,1486.45 1269.51,123.472 \n",
       "  \"/>\n",
       "<polyline clip-path=\"url(#clip412)\" style=\"stroke:#000000; stroke-linecap:butt; stroke-linejoin:round; stroke-width:2; stroke-opacity:0.1; fill:none\" points=\"\n",
       "  1780.48,1486.45 1780.48,123.472 \n",
       "  \"/>\n",
       "<polyline clip-path=\"url(#clip412)\" style=\"stroke:#000000; stroke-linecap:butt; stroke-linejoin:round; stroke-width:2; stroke-opacity:0.1; fill:none\" points=\"\n",
       "  2291.44,1486.45 2291.44,123.472 \n",
       "  \"/>\n",
       "<polyline clip-path=\"url(#clip410)\" style=\"stroke:#000000; stroke-linecap:butt; stroke-linejoin:round; stroke-width:4; stroke-opacity:1; fill:none\" points=\"\n",
       "  186.274,1486.45 2352.76,1486.45 \n",
       "  \"/>\n",
       "<polyline clip-path=\"url(#clip410)\" style=\"stroke:#000000; stroke-linecap:butt; stroke-linejoin:round; stroke-width:4; stroke-opacity:1; fill:none\" points=\"\n",
       "  247.59,1486.45 247.59,1467.55 \n",
       "  \"/>\n",
       "<polyline clip-path=\"url(#clip410)\" style=\"stroke:#000000; stroke-linecap:butt; stroke-linejoin:round; stroke-width:4; stroke-opacity:1; fill:none\" points=\"\n",
       "  758.552,1486.45 758.552,1467.55 \n",
       "  \"/>\n",
       "<polyline clip-path=\"url(#clip410)\" style=\"stroke:#000000; stroke-linecap:butt; stroke-linejoin:round; stroke-width:4; stroke-opacity:1; fill:none\" points=\"\n",
       "  1269.51,1486.45 1269.51,1467.55 \n",
       "  \"/>\n",
       "<polyline clip-path=\"url(#clip410)\" style=\"stroke:#000000; stroke-linecap:butt; stroke-linejoin:round; stroke-width:4; stroke-opacity:1; fill:none\" points=\"\n",
       "  1780.48,1486.45 1780.48,1467.55 \n",
       "  \"/>\n",
       "<polyline clip-path=\"url(#clip410)\" style=\"stroke:#000000; stroke-linecap:butt; stroke-linejoin:round; stroke-width:4; stroke-opacity:1; fill:none\" points=\"\n",
       "  2291.44,1486.45 2291.44,1467.55 \n",
       "  \"/>\n",
       "<path clip-path=\"url(#clip410)\" d=\"M209.893 1517.37 Q206.282 1517.37 204.453 1520.93 Q202.648 1524.47 202.648 1531.6 Q202.648 1538.71 204.453 1542.27 Q206.282 1545.82 209.893 1545.82 Q213.527 1545.82 215.333 1542.27 Q217.161 1538.71 217.161 1531.6 Q217.161 1524.47 215.333 1520.93 Q213.527 1517.37 209.893 1517.37 M209.893 1513.66 Q215.703 1513.66 218.759 1518.27 Q221.837 1522.85 221.837 1531.6 Q221.837 1540.33 218.759 1544.94 Q215.703 1549.52 209.893 1549.52 Q204.083 1549.52 201.004 1544.94 Q197.949 1540.33 197.949 1531.6 Q197.949 1522.85 201.004 1518.27 Q204.083 1513.66 209.893 1513.66 Z\" fill=\"#000000\" fill-rule=\"evenodd\" fill-opacity=\"1\" /><path clip-path=\"url(#clip410)\" d=\"M230.055 1542.97 L234.939 1542.97 L234.939 1548.85 L230.055 1548.85 L230.055 1542.97 Z\" fill=\"#000000\" fill-rule=\"evenodd\" fill-opacity=\"1\" /><path clip-path=\"url(#clip410)\" d=\"M255.124 1517.37 Q251.513 1517.37 249.684 1520.93 Q247.879 1524.47 247.879 1531.6 Q247.879 1538.71 249.684 1542.27 Q251.513 1545.82 255.124 1545.82 Q258.758 1545.82 260.564 1542.27 Q262.393 1538.71 262.393 1531.6 Q262.393 1524.47 260.564 1520.93 Q258.758 1517.37 255.124 1517.37 M255.124 1513.66 Q260.934 1513.66 263.99 1518.27 Q267.069 1522.85 267.069 1531.6 Q267.069 1540.33 263.99 1544.94 Q260.934 1549.52 255.124 1549.52 Q249.314 1549.52 246.235 1544.94 Q243.18 1540.33 243.18 1531.6 Q243.18 1522.85 246.235 1518.27 Q249.314 1513.66 255.124 1513.66 Z\" fill=\"#000000\" fill-rule=\"evenodd\" fill-opacity=\"1\" /><path clip-path=\"url(#clip410)\" d=\"M285.286 1517.37 Q281.675 1517.37 279.846 1520.93 Q278.041 1524.47 278.041 1531.6 Q278.041 1538.71 279.846 1542.27 Q281.675 1545.82 285.286 1545.82 Q288.92 1545.82 290.726 1542.27 Q292.555 1538.71 292.555 1531.6 Q292.555 1524.47 290.726 1520.93 Q288.92 1517.37 285.286 1517.37 M285.286 1513.66 Q291.096 1513.66 294.152 1518.27 Q297.23 1522.85 297.23 1531.6 Q297.23 1540.33 294.152 1544.94 Q291.096 1549.52 285.286 1549.52 Q279.476 1549.52 276.397 1544.94 Q273.342 1540.33 273.342 1531.6 Q273.342 1522.85 276.397 1518.27 Q279.476 1513.66 285.286 1513.66 Z\" fill=\"#000000\" fill-rule=\"evenodd\" fill-opacity=\"1\" /><path clip-path=\"url(#clip410)\" d=\"M721.353 1517.37 Q717.742 1517.37 715.914 1520.93 Q714.108 1524.47 714.108 1531.6 Q714.108 1538.71 715.914 1542.27 Q717.742 1545.82 721.353 1545.82 Q724.988 1545.82 726.793 1542.27 Q728.622 1538.71 728.622 1531.6 Q728.622 1524.47 726.793 1520.93 Q724.988 1517.37 721.353 1517.37 M721.353 1513.66 Q727.164 1513.66 730.219 1518.27 Q733.298 1522.85 733.298 1531.6 Q733.298 1540.33 730.219 1544.94 Q727.164 1549.52 721.353 1549.52 Q715.543 1549.52 712.465 1544.94 Q709.409 1540.33 709.409 1531.6 Q709.409 1522.85 712.465 1518.27 Q715.543 1513.66 721.353 1513.66 Z\" fill=\"#000000\" fill-rule=\"evenodd\" fill-opacity=\"1\" /><path clip-path=\"url(#clip410)\" d=\"M741.515 1542.97 L746.4 1542.97 L746.4 1548.85 L741.515 1548.85 L741.515 1542.97 Z\" fill=\"#000000\" fill-rule=\"evenodd\" fill-opacity=\"1\" /><path clip-path=\"url(#clip410)\" d=\"M760.612 1544.91 L776.932 1544.91 L776.932 1548.85 L754.987 1548.85 L754.987 1544.91 Q757.649 1542.16 762.233 1537.53 Q766.839 1532.88 768.02 1531.53 Q770.265 1529.01 771.145 1527.27 Q772.048 1525.51 772.048 1523.82 Q772.048 1521.07 770.103 1519.33 Q768.182 1517.6 765.08 1517.6 Q762.881 1517.6 760.427 1518.36 Q757.997 1519.13 755.219 1520.68 L755.219 1515.95 Q758.043 1514.82 760.497 1514.24 Q762.95 1513.66 764.987 1513.66 Q770.358 1513.66 773.552 1516.35 Q776.747 1519.03 776.747 1523.52 Q776.747 1525.65 775.936 1527.57 Q775.149 1529.47 773.043 1532.07 Q772.464 1532.74 769.362 1535.95 Q766.261 1539.15 760.612 1544.91 Z\" fill=\"#000000\" fill-rule=\"evenodd\" fill-opacity=\"1\" /><path clip-path=\"url(#clip410)\" d=\"M786.793 1514.29 L805.149 1514.29 L805.149 1518.22 L791.075 1518.22 L791.075 1526.7 Q792.094 1526.35 793.112 1526.19 Q794.131 1526 795.149 1526 Q800.936 1526 804.316 1529.17 Q807.695 1532.34 807.695 1537.76 Q807.695 1543.34 804.223 1546.44 Q800.751 1549.52 794.432 1549.52 Q792.256 1549.52 789.987 1549.15 Q787.742 1548.78 785.335 1548.04 L785.335 1543.34 Q787.418 1544.47 789.64 1545.03 Q791.862 1545.58 794.339 1545.58 Q798.344 1545.58 800.682 1543.48 Q803.02 1541.37 803.02 1537.76 Q803.02 1534.15 800.682 1532.04 Q798.344 1529.94 794.339 1529.94 Q792.464 1529.94 790.589 1530.35 Q788.737 1530.77 786.793 1531.65 L786.793 1514.29 Z\" fill=\"#000000\" fill-rule=\"evenodd\" fill-opacity=\"1\" /><path clip-path=\"url(#clip410)\" d=\"M1231.82 1517.37 Q1228.21 1517.37 1226.38 1520.93 Q1224.57 1524.47 1224.57 1531.6 Q1224.57 1538.71 1226.38 1542.27 Q1228.21 1545.82 1231.82 1545.82 Q1235.45 1545.82 1237.26 1542.27 Q1239.09 1538.71 1239.09 1531.6 Q1239.09 1524.47 1237.26 1520.93 Q1235.45 1517.37 1231.82 1517.37 M1231.82 1513.66 Q1237.63 1513.66 1240.68 1518.27 Q1243.76 1522.85 1243.76 1531.6 Q1243.76 1540.33 1240.68 1544.94 Q1237.63 1549.52 1231.82 1549.52 Q1226.01 1549.52 1222.93 1544.94 Q1219.87 1540.33 1219.87 1531.6 Q1219.87 1522.85 1222.93 1518.27 Q1226.01 1513.66 1231.82 1513.66 Z\" fill=\"#000000\" fill-rule=\"evenodd\" fill-opacity=\"1\" /><path clip-path=\"url(#clip410)\" d=\"M1251.98 1542.97 L1256.86 1542.97 L1256.86 1548.85 L1251.98 1548.85 L1251.98 1542.97 Z\" fill=\"#000000\" fill-rule=\"evenodd\" fill-opacity=\"1\" /><path clip-path=\"url(#clip410)\" d=\"M1267.1 1514.29 L1285.45 1514.29 L1285.45 1518.22 L1271.38 1518.22 L1271.38 1526.7 Q1272.4 1526.35 1273.42 1526.19 Q1274.43 1526 1275.45 1526 Q1281.24 1526 1284.62 1529.17 Q1288 1532.34 1288 1537.76 Q1288 1543.34 1284.53 1546.44 Q1281.05 1549.52 1274.73 1549.52 Q1272.56 1549.52 1270.29 1549.15 Q1268.05 1548.78 1265.64 1548.04 L1265.64 1543.34 Q1267.72 1544.47 1269.94 1545.03 Q1272.17 1545.58 1274.64 1545.58 Q1278.65 1545.58 1280.98 1543.48 Q1283.32 1541.37 1283.32 1537.76 Q1283.32 1534.15 1280.98 1532.04 Q1278.65 1529.94 1274.64 1529.94 Q1272.77 1529.94 1270.89 1530.35 Q1269.04 1530.77 1267.1 1531.65 L1267.1 1514.29 Z\" fill=\"#000000\" fill-rule=\"evenodd\" fill-opacity=\"1\" /><path clip-path=\"url(#clip410)\" d=\"M1307.21 1517.37 Q1303.6 1517.37 1301.77 1520.93 Q1299.97 1524.47 1299.97 1531.6 Q1299.97 1538.71 1301.77 1542.27 Q1303.6 1545.82 1307.21 1545.82 Q1310.85 1545.82 1312.65 1542.27 Q1314.48 1538.71 1314.48 1531.6 Q1314.48 1524.47 1312.65 1520.93 Q1310.85 1517.37 1307.21 1517.37 M1307.21 1513.66 Q1313.02 1513.66 1316.08 1518.27 Q1319.16 1522.85 1319.16 1531.6 Q1319.16 1540.33 1316.08 1544.94 Q1313.02 1549.52 1307.21 1549.52 Q1301.4 1549.52 1298.32 1544.94 Q1295.27 1540.33 1295.27 1531.6 Q1295.27 1522.85 1298.32 1518.27 Q1301.4 1513.66 1307.21 1513.66 Z\" fill=\"#000000\" fill-rule=\"evenodd\" fill-opacity=\"1\" /><path clip-path=\"url(#clip410)\" d=\"M1743.28 1517.37 Q1739.67 1517.37 1737.84 1520.93 Q1736.03 1524.47 1736.03 1531.6 Q1736.03 1538.71 1737.84 1542.27 Q1739.67 1545.82 1743.28 1545.82 Q1746.91 1545.82 1748.72 1542.27 Q1750.55 1538.71 1750.55 1531.6 Q1750.55 1524.47 1748.72 1520.93 Q1746.91 1517.37 1743.28 1517.37 M1743.28 1513.66 Q1749.09 1513.66 1752.14 1518.27 Q1755.22 1522.85 1755.22 1531.6 Q1755.22 1540.33 1752.14 1544.94 Q1749.09 1549.52 1743.28 1549.52 Q1737.47 1549.52 1734.39 1544.94 Q1731.33 1540.33 1731.33 1531.6 Q1731.33 1522.85 1734.39 1518.27 Q1737.47 1513.66 1743.28 1513.66 Z\" fill=\"#000000\" fill-rule=\"evenodd\" fill-opacity=\"1\" /><path clip-path=\"url(#clip410)\" d=\"M1763.44 1542.97 L1768.32 1542.97 L1768.32 1548.85 L1763.44 1548.85 L1763.44 1542.97 Z\" fill=\"#000000\" fill-rule=\"evenodd\" fill-opacity=\"1\" /><path clip-path=\"url(#clip410)\" d=\"M1777.33 1514.29 L1799.55 1514.29 L1799.55 1516.28 L1787.01 1548.85 L1782.12 1548.85 L1793.93 1518.22 L1777.33 1518.22 L1777.33 1514.29 Z\" fill=\"#000000\" fill-rule=\"evenodd\" fill-opacity=\"1\" /><path clip-path=\"url(#clip410)\" d=\"M1808.72 1514.29 L1827.07 1514.29 L1827.07 1518.22 L1813 1518.22 L1813 1526.7 Q1814.02 1526.35 1815.04 1526.19 Q1816.06 1526 1817.07 1526 Q1822.86 1526 1826.24 1529.17 Q1829.62 1532.34 1829.62 1537.76 Q1829.62 1543.34 1826.15 1546.44 Q1822.68 1549.52 1816.36 1549.52 Q1814.18 1549.52 1811.91 1549.15 Q1809.67 1548.78 1807.26 1548.04 L1807.26 1543.34 Q1809.34 1544.47 1811.57 1545.03 Q1813.79 1545.58 1816.26 1545.58 Q1820.27 1545.58 1822.61 1543.48 Q1824.95 1541.37 1824.95 1537.76 Q1824.95 1534.15 1822.61 1532.04 Q1820.27 1529.94 1816.26 1529.94 Q1814.39 1529.94 1812.51 1530.35 Q1810.66 1530.77 1808.72 1531.65 L1808.72 1514.29 Z\" fill=\"#000000\" fill-rule=\"evenodd\" fill-opacity=\"1\" /><path clip-path=\"url(#clip410)\" d=\"M2243.51 1544.91 L2251.15 1544.91 L2251.15 1518.55 L2242.84 1520.21 L2242.84 1515.95 L2251.1 1514.29 L2255.78 1514.29 L2255.78 1544.91 L2263.42 1544.91 L2263.42 1548.85 L2243.51 1548.85 L2243.51 1544.91 Z\" fill=\"#000000\" fill-rule=\"evenodd\" fill-opacity=\"1\" /><path clip-path=\"url(#clip410)\" d=\"M2272.86 1542.97 L2277.75 1542.97 L2277.75 1548.85 L2272.86 1548.85 L2272.86 1542.97 Z\" fill=\"#000000\" fill-rule=\"evenodd\" fill-opacity=\"1\" /><path clip-path=\"url(#clip410)\" d=\"M2297.93 1517.37 Q2294.32 1517.37 2292.49 1520.93 Q2290.69 1524.47 2290.69 1531.6 Q2290.69 1538.71 2292.49 1542.27 Q2294.32 1545.82 2297.93 1545.82 Q2301.57 1545.82 2303.37 1542.27 Q2305.2 1538.71 2305.2 1531.6 Q2305.2 1524.47 2303.37 1520.93 Q2301.57 1517.37 2297.93 1517.37 M2297.93 1513.66 Q2303.74 1513.66 2306.8 1518.27 Q2309.88 1522.85 2309.88 1531.6 Q2309.88 1540.33 2306.8 1544.94 Q2303.74 1549.52 2297.93 1549.52 Q2292.12 1549.52 2289.04 1544.94 Q2285.99 1540.33 2285.99 1531.6 Q2285.99 1522.85 2289.04 1518.27 Q2292.12 1513.66 2297.93 1513.66 Z\" fill=\"#000000\" fill-rule=\"evenodd\" fill-opacity=\"1\" /><path clip-path=\"url(#clip410)\" d=\"M2328.1 1517.37 Q2324.48 1517.37 2322.66 1520.93 Q2320.85 1524.47 2320.85 1531.6 Q2320.85 1538.71 2322.66 1542.27 Q2324.48 1545.82 2328.1 1545.82 Q2331.73 1545.82 2333.54 1542.27 Q2335.36 1538.71 2335.36 1531.6 Q2335.36 1524.47 2333.54 1520.93 Q2331.73 1517.37 2328.1 1517.37 M2328.1 1513.66 Q2333.91 1513.66 2336.96 1518.27 Q2340.04 1522.85 2340.04 1531.6 Q2340.04 1540.33 2336.96 1544.94 Q2333.91 1549.52 2328.1 1549.52 Q2322.29 1549.52 2319.21 1544.94 Q2316.15 1540.33 2316.15 1531.6 Q2316.15 1522.85 2319.21 1518.27 Q2322.29 1513.66 2328.1 1513.66 Z\" fill=\"#000000\" fill-rule=\"evenodd\" fill-opacity=\"1\" /><polyline clip-path=\"url(#clip412)\" style=\"stroke:#000000; stroke-linecap:butt; stroke-linejoin:round; stroke-width:2; stroke-opacity:0.1; fill:none\" points=\"\n",
       "  186.274,1447.87 2352.76,1447.87 \n",
       "  \"/>\n",
       "<polyline clip-path=\"url(#clip412)\" style=\"stroke:#000000; stroke-linecap:butt; stroke-linejoin:round; stroke-width:2; stroke-opacity:0.1; fill:none\" points=\"\n",
       "  186.274,1126.42 2352.76,1126.42 \n",
       "  \"/>\n",
       "<polyline clip-path=\"url(#clip412)\" style=\"stroke:#000000; stroke-linecap:butt; stroke-linejoin:round; stroke-width:2; stroke-opacity:0.1; fill:none\" points=\"\n",
       "  186.274,804.96 2352.76,804.96 \n",
       "  \"/>\n",
       "<polyline clip-path=\"url(#clip412)\" style=\"stroke:#000000; stroke-linecap:butt; stroke-linejoin:round; stroke-width:2; stroke-opacity:0.1; fill:none\" points=\"\n",
       "  186.274,483.503 2352.76,483.503 \n",
       "  \"/>\n",
       "<polyline clip-path=\"url(#clip412)\" style=\"stroke:#000000; stroke-linecap:butt; stroke-linejoin:round; stroke-width:2; stroke-opacity:0.1; fill:none\" points=\"\n",
       "  186.274,162.047 2352.76,162.047 \n",
       "  \"/>\n",
       "<polyline clip-path=\"url(#clip410)\" style=\"stroke:#000000; stroke-linecap:butt; stroke-linejoin:round; stroke-width:4; stroke-opacity:1; fill:none\" points=\"\n",
       "  186.274,1486.45 186.274,123.472 \n",
       "  \"/>\n",
       "<polyline clip-path=\"url(#clip410)\" style=\"stroke:#000000; stroke-linecap:butt; stroke-linejoin:round; stroke-width:4; stroke-opacity:1; fill:none\" points=\"\n",
       "  186.274,1447.87 205.172,1447.87 \n",
       "  \"/>\n",
       "<polyline clip-path=\"url(#clip410)\" style=\"stroke:#000000; stroke-linecap:butt; stroke-linejoin:round; stroke-width:4; stroke-opacity:1; fill:none\" points=\"\n",
       "  186.274,1126.42 205.172,1126.42 \n",
       "  \"/>\n",
       "<polyline clip-path=\"url(#clip410)\" style=\"stroke:#000000; stroke-linecap:butt; stroke-linejoin:round; stroke-width:4; stroke-opacity:1; fill:none\" points=\"\n",
       "  186.274,804.96 205.172,804.96 \n",
       "  \"/>\n",
       "<polyline clip-path=\"url(#clip410)\" style=\"stroke:#000000; stroke-linecap:butt; stroke-linejoin:round; stroke-width:4; stroke-opacity:1; fill:none\" points=\"\n",
       "  186.274,483.503 205.172,483.503 \n",
       "  \"/>\n",
       "<polyline clip-path=\"url(#clip410)\" style=\"stroke:#000000; stroke-linecap:butt; stroke-linejoin:round; stroke-width:4; stroke-opacity:1; fill:none\" points=\"\n",
       "  186.274,162.047 205.172,162.047 \n",
       "  \"/>\n",
       "<path clip-path=\"url(#clip410)\" d=\"M62.9365 1433.67 Q59.3254 1433.67 57.4967 1437.24 Q55.6912 1440.78 55.6912 1447.91 Q55.6912 1455.01 57.4967 1458.58 Q59.3254 1462.12 62.9365 1462.12 Q66.5707 1462.12 68.3763 1458.58 Q70.205 1455.01 70.205 1447.91 Q70.205 1440.78 68.3763 1437.24 Q66.5707 1433.67 62.9365 1433.67 M62.9365 1429.97 Q68.7467 1429.97 71.8022 1434.57 Q74.8809 1439.16 74.8809 1447.91 Q74.8809 1456.63 71.8022 1461.24 Q68.7467 1465.82 62.9365 1465.82 Q57.1264 1465.82 54.0477 1461.24 Q50.9921 1456.63 50.9921 1447.91 Q50.9921 1439.16 54.0477 1434.57 Q57.1264 1429.97 62.9365 1429.97 Z\" fill=\"#000000\" fill-rule=\"evenodd\" fill-opacity=\"1\" /><path clip-path=\"url(#clip410)\" d=\"M83.0984 1459.27 L87.9827 1459.27 L87.9827 1465.15 L83.0984 1465.15 L83.0984 1459.27 Z\" fill=\"#000000\" fill-rule=\"evenodd\" fill-opacity=\"1\" /><path clip-path=\"url(#clip410)\" d=\"M108.168 1433.67 Q104.557 1433.67 102.728 1437.24 Q100.922 1440.78 100.922 1447.91 Q100.922 1455.01 102.728 1458.58 Q104.557 1462.12 108.168 1462.12 Q111.802 1462.12 113.608 1458.58 Q115.436 1455.01 115.436 1447.91 Q115.436 1440.78 113.608 1437.24 Q111.802 1433.67 108.168 1433.67 M108.168 1429.97 Q113.978 1429.97 117.033 1434.57 Q120.112 1439.16 120.112 1447.91 Q120.112 1456.63 117.033 1461.24 Q113.978 1465.82 108.168 1465.82 Q102.358 1465.82 99.2789 1461.24 Q96.2234 1456.63 96.2234 1447.91 Q96.2234 1439.16 99.2789 1434.57 Q102.358 1429.97 108.168 1429.97 Z\" fill=\"#000000\" fill-rule=\"evenodd\" fill-opacity=\"1\" /><path clip-path=\"url(#clip410)\" d=\"M138.33 1433.67 Q134.719 1433.67 132.89 1437.24 Q131.084 1440.78 131.084 1447.91 Q131.084 1455.01 132.89 1458.58 Q134.719 1462.12 138.33 1462.12 Q141.964 1462.12 143.769 1458.58 Q145.598 1455.01 145.598 1447.91 Q145.598 1440.78 143.769 1437.24 Q141.964 1433.67 138.33 1433.67 M138.33 1429.97 Q144.14 1429.97 147.195 1434.57 Q150.274 1439.16 150.274 1447.91 Q150.274 1456.63 147.195 1461.24 Q144.14 1465.82 138.33 1465.82 Q132.519 1465.82 129.441 1461.24 Q126.385 1456.63 126.385 1447.91 Q126.385 1439.16 129.441 1434.57 Q132.519 1429.97 138.33 1429.97 Z\" fill=\"#000000\" fill-rule=\"evenodd\" fill-opacity=\"1\" /><path clip-path=\"url(#clip410)\" d=\"M63.9319 1112.22 Q60.3208 1112.22 58.4921 1115.78 Q56.6865 1119.32 56.6865 1126.45 Q56.6865 1133.56 58.4921 1137.12 Q60.3208 1140.66 63.9319 1140.66 Q67.5661 1140.66 69.3717 1137.12 Q71.2004 1133.56 71.2004 1126.45 Q71.2004 1119.32 69.3717 1115.78 Q67.5661 1112.22 63.9319 1112.22 M63.9319 1108.51 Q69.742 1108.51 72.7976 1113.12 Q75.8763 1117.7 75.8763 1126.45 Q75.8763 1135.18 72.7976 1139.78 Q69.742 1144.37 63.9319 1144.37 Q58.1217 1144.37 55.043 1139.78 Q51.9875 1135.18 51.9875 1126.45 Q51.9875 1117.7 55.043 1113.12 Q58.1217 1108.51 63.9319 1108.51 Z\" fill=\"#000000\" fill-rule=\"evenodd\" fill-opacity=\"1\" /><path clip-path=\"url(#clip410)\" d=\"M84.0938 1137.82 L88.978 1137.82 L88.978 1143.7 L84.0938 1143.7 L84.0938 1137.82 Z\" fill=\"#000000\" fill-rule=\"evenodd\" fill-opacity=\"1\" /><path clip-path=\"url(#clip410)\" d=\"M103.191 1139.76 L119.51 1139.76 L119.51 1143.7 L97.566 1143.7 L97.566 1139.76 Q100.228 1137.01 104.811 1132.38 Q109.418 1127.72 110.598 1126.38 Q112.844 1123.86 113.723 1122.12 Q114.626 1120.36 114.626 1118.67 Q114.626 1115.92 112.682 1114.18 Q110.76 1112.45 107.658 1112.45 Q105.459 1112.45 103.006 1113.21 Q100.575 1113.97 97.7974 1115.53 L97.7974 1110.8 Q100.621 1109.67 103.075 1109.09 Q105.529 1108.51 107.566 1108.51 Q112.936 1108.51 116.131 1111.2 Q119.325 1113.88 119.325 1118.37 Q119.325 1120.5 118.515 1122.42 Q117.728 1124.32 115.621 1126.91 Q115.043 1127.59 111.941 1130.8 Q108.839 1134 103.191 1139.76 Z\" fill=\"#000000\" fill-rule=\"evenodd\" fill-opacity=\"1\" /><path clip-path=\"url(#clip410)\" d=\"M129.371 1109.14 L147.728 1109.14 L147.728 1113.07 L133.654 1113.07 L133.654 1121.54 Q134.672 1121.2 135.691 1121.03 Q136.709 1120.85 137.728 1120.85 Q143.515 1120.85 146.894 1124.02 Q150.274 1127.19 150.274 1132.61 Q150.274 1138.19 146.802 1141.29 Q143.33 1144.37 137.01 1144.37 Q134.834 1144.37 132.566 1144 Q130.32 1143.63 127.913 1142.89 L127.913 1138.19 Q129.996 1139.32 132.219 1139.88 Q134.441 1140.43 136.918 1140.43 Q140.922 1140.43 143.26 1138.33 Q145.598 1136.22 145.598 1132.61 Q145.598 1129 143.26 1126.89 Q140.922 1124.78 136.918 1124.78 Q135.043 1124.78 133.168 1125.2 Q131.316 1125.62 129.371 1126.5 L129.371 1109.14 Z\" fill=\"#000000\" fill-rule=\"evenodd\" fill-opacity=\"1\" /><path clip-path=\"url(#clip410)\" d=\"M62.9365 790.759 Q59.3254 790.759 57.4967 794.323 Q55.6912 797.865 55.6912 804.995 Q55.6912 812.101 57.4967 815.666 Q59.3254 819.208 62.9365 819.208 Q66.5707 819.208 68.3763 815.666 Q70.205 812.101 70.205 804.995 Q70.205 797.865 68.3763 794.323 Q66.5707 790.759 62.9365 790.759 M62.9365 787.055 Q68.7467 787.055 71.8022 791.661 Q74.8809 796.245 74.8809 804.995 Q74.8809 813.722 71.8022 818.328 Q68.7467 822.911 62.9365 822.911 Q57.1264 822.911 54.0477 818.328 Q50.9921 813.722 50.9921 804.995 Q50.9921 796.245 54.0477 791.661 Q57.1264 787.055 62.9365 787.055 Z\" fill=\"#000000\" fill-rule=\"evenodd\" fill-opacity=\"1\" /><path clip-path=\"url(#clip410)\" d=\"M83.0984 816.36 L87.9827 816.36 L87.9827 822.24 L83.0984 822.24 L83.0984 816.36 Z\" fill=\"#000000\" fill-rule=\"evenodd\" fill-opacity=\"1\" /><path clip-path=\"url(#clip410)\" d=\"M98.2141 787.68 L116.57 787.68 L116.57 791.615 L102.496 791.615 L102.496 800.087 Q103.515 799.74 104.534 799.578 Q105.552 799.393 106.571 799.393 Q112.358 799.393 115.737 802.564 Q119.117 805.735 119.117 811.152 Q119.117 816.731 115.645 819.833 Q112.172 822.911 105.853 822.911 Q103.677 822.911 101.409 822.541 Q99.1632 822.171 96.7558 821.43 L96.7558 816.731 Q98.8391 817.865 101.061 818.421 Q103.284 818.976 105.76 818.976 Q109.765 818.976 112.103 816.87 Q114.441 814.763 114.441 811.152 Q114.441 807.541 112.103 805.435 Q109.765 803.328 105.76 803.328 Q103.885 803.328 102.01 803.745 Q100.159 804.161 98.2141 805.041 L98.2141 787.68 Z\" fill=\"#000000\" fill-rule=\"evenodd\" fill-opacity=\"1\" /><path clip-path=\"url(#clip410)\" d=\"M138.33 790.759 Q134.719 790.759 132.89 794.323 Q131.084 797.865 131.084 804.995 Q131.084 812.101 132.89 815.666 Q134.719 819.208 138.33 819.208 Q141.964 819.208 143.769 815.666 Q145.598 812.101 145.598 804.995 Q145.598 797.865 143.769 794.323 Q141.964 790.759 138.33 790.759 M138.33 787.055 Q144.14 787.055 147.195 791.661 Q150.274 796.245 150.274 804.995 Q150.274 813.722 147.195 818.328 Q144.14 822.911 138.33 822.911 Q132.519 822.911 129.441 818.328 Q126.385 813.722 126.385 804.995 Q126.385 796.245 129.441 791.661 Q132.519 787.055 138.33 787.055 Z\" fill=\"#000000\" fill-rule=\"evenodd\" fill-opacity=\"1\" /><path clip-path=\"url(#clip410)\" d=\"M63.9319 469.302 Q60.3208 469.302 58.4921 472.867 Q56.6865 476.409 56.6865 483.538 Q56.6865 490.645 58.4921 494.209 Q60.3208 497.751 63.9319 497.751 Q67.5661 497.751 69.3717 494.209 Q71.2004 490.645 71.2004 483.538 Q71.2004 476.409 69.3717 472.867 Q67.5661 469.302 63.9319 469.302 M63.9319 465.598 Q69.742 465.598 72.7976 470.205 Q75.8763 474.788 75.8763 483.538 Q75.8763 492.265 72.7976 496.871 Q69.742 501.455 63.9319 501.455 Q58.1217 501.455 55.043 496.871 Q51.9875 492.265 51.9875 483.538 Q51.9875 474.788 55.043 470.205 Q58.1217 465.598 63.9319 465.598 Z\" fill=\"#000000\" fill-rule=\"evenodd\" fill-opacity=\"1\" /><path clip-path=\"url(#clip410)\" d=\"M84.0938 494.904 L88.978 494.904 L88.978 500.783 L84.0938 500.783 L84.0938 494.904 Z\" fill=\"#000000\" fill-rule=\"evenodd\" fill-opacity=\"1\" /><path clip-path=\"url(#clip410)\" d=\"M97.9826 466.223 L120.205 466.223 L120.205 468.214 L107.658 500.783 L102.774 500.783 L114.58 470.159 L97.9826 470.159 L97.9826 466.223 Z\" fill=\"#000000\" fill-rule=\"evenodd\" fill-opacity=\"1\" /><path clip-path=\"url(#clip410)\" d=\"M129.371 466.223 L147.728 466.223 L147.728 470.159 L133.654 470.159 L133.654 478.631 Q134.672 478.284 135.691 478.122 Q136.709 477.936 137.728 477.936 Q143.515 477.936 146.894 481.108 Q150.274 484.279 150.274 489.696 Q150.274 495.274 146.802 498.376 Q143.33 501.455 137.01 501.455 Q134.834 501.455 132.566 501.084 Q130.32 500.714 127.913 499.973 L127.913 495.274 Q129.996 496.408 132.219 496.964 Q134.441 497.52 136.918 497.52 Q140.922 497.52 143.26 495.413 Q145.598 493.307 145.598 489.696 Q145.598 486.084 143.26 483.978 Q140.922 481.872 136.918 481.872 Q135.043 481.872 133.168 482.288 Q131.316 482.705 129.371 483.584 L129.371 466.223 Z\" fill=\"#000000\" fill-rule=\"evenodd\" fill-opacity=\"1\" /><path clip-path=\"url(#clip410)\" d=\"M53.7467 175.392 L61.3856 175.392 L61.3856 149.026 L53.0754 150.693 L53.0754 146.434 L61.3393 144.767 L66.0152 144.767 L66.0152 175.392 L73.654 175.392 L73.654 179.327 L53.7467 179.327 L53.7467 175.392 Z\" fill=\"#000000\" fill-rule=\"evenodd\" fill-opacity=\"1\" /><path clip-path=\"url(#clip410)\" d=\"M83.0984 173.447 L87.9827 173.447 L87.9827 179.327 L83.0984 179.327 L83.0984 173.447 Z\" fill=\"#000000\" fill-rule=\"evenodd\" fill-opacity=\"1\" /><path clip-path=\"url(#clip410)\" d=\"M108.168 147.846 Q104.557 147.846 102.728 151.41 Q100.922 154.952 100.922 162.082 Q100.922 169.188 102.728 172.753 Q104.557 176.295 108.168 176.295 Q111.802 176.295 113.608 172.753 Q115.436 169.188 115.436 162.082 Q115.436 154.952 113.608 151.41 Q111.802 147.846 108.168 147.846 M108.168 144.142 Q113.978 144.142 117.033 148.748 Q120.112 153.332 120.112 162.082 Q120.112 170.808 117.033 175.415 Q113.978 179.998 108.168 179.998 Q102.358 179.998 99.2789 175.415 Q96.2234 170.808 96.2234 162.082 Q96.2234 153.332 99.2789 148.748 Q102.358 144.142 108.168 144.142 Z\" fill=\"#000000\" fill-rule=\"evenodd\" fill-opacity=\"1\" /><path clip-path=\"url(#clip410)\" d=\"M138.33 147.846 Q134.719 147.846 132.89 151.41 Q131.084 154.952 131.084 162.082 Q131.084 169.188 132.89 172.753 Q134.719 176.295 138.33 176.295 Q141.964 176.295 143.769 172.753 Q145.598 169.188 145.598 162.082 Q145.598 154.952 143.769 151.41 Q141.964 147.846 138.33 147.846 M138.33 144.142 Q144.14 144.142 147.195 148.748 Q150.274 153.332 150.274 162.082 Q150.274 170.808 147.195 175.415 Q144.14 179.998 138.33 179.998 Q132.519 179.998 129.441 175.415 Q126.385 170.808 126.385 162.082 Q126.385 153.332 129.441 148.748 Q132.519 144.142 138.33 144.142 Z\" fill=\"#000000\" fill-rule=\"evenodd\" fill-opacity=\"1\" /><path clip-path=\"url(#clip410)\" d=\"M1084.63 44.2197 Q1087.26 45.1109 1089.74 48.0275 Q1092.25 50.9442 1094.76 56.0483 L1103.06 72.576 L1094.27 72.576 L1086.54 57.061 Q1083.54 50.9847 1080.7 48.9997 Q1077.91 47.0148 1073.05 47.0148 L1064.13 47.0148 L1064.13 72.576 L1055.95 72.576 L1055.95 12.096 L1074.42 12.096 Q1084.79 12.096 1089.9 16.4305 Q1095 20.7649 1095 29.5149 Q1095 35.2267 1092.33 38.994 Q1089.7 42.7613 1084.63 44.2197 M1064.13 18.8205 L1064.13 40.2903 L1074.42 40.2903 Q1080.34 40.2903 1083.34 37.5762 Q1086.37 34.8216 1086.37 29.5149 Q1086.37 24.2082 1083.34 21.5346 Q1080.34 18.8205 1074.42 18.8205 L1064.13 18.8205 Z\" fill=\"#000000\" fill-rule=\"evenodd\" fill-opacity=\"1\" /><path clip-path=\"url(#clip410)\" d=\"M1138.14 17.6457 Q1129.23 17.6457 1123.97 24.2892 Q1118.74 30.9327 1118.74 42.3968 Q1118.74 53.8203 1123.97 60.4638 Q1129.23 67.1073 1138.14 67.1073 Q1147.06 67.1073 1152.24 60.4638 Q1157.47 53.8203 1157.47 42.3968 Q1157.47 30.9327 1152.24 24.2892 Q1147.06 17.6457 1138.14 17.6457 M1138.14 11.0023 Q1150.86 11.0023 1158.48 19.5497 Q1166.1 28.0566 1166.1 42.3968 Q1166.1 56.6965 1158.48 65.2439 Q1150.86 73.7508 1138.14 73.7508 Q1125.38 73.7508 1117.73 65.2439 Q1110.11 56.737 1110.11 42.3968 Q1110.11 28.0566 1117.73 19.5497 Q1125.38 11.0023 1138.14 11.0023 Z\" fill=\"#000000\" fill-rule=\"evenodd\" fill-opacity=\"1\" /><path clip-path=\"url(#clip410)\" d=\"M1224.19 16.7545 L1224.19 25.383 Q1220.05 21.5346 1215.35 19.6307 Q1210.7 17.7268 1205.43 17.7268 Q1195.06 17.7268 1189.55 24.0867 Q1184.04 30.4061 1184.04 42.3968 Q1184.04 54.3469 1189.55 60.7069 Q1195.06 67.0263 1205.43 67.0263 Q1210.7 67.0263 1215.35 65.1223 Q1220.05 63.2184 1224.19 59.3701 L1224.19 67.9175 Q1219.89 70.8341 1215.07 72.2924 Q1210.29 73.7508 1204.94 73.7508 Q1191.21 73.7508 1183.31 65.3654 Q1175.41 56.9395 1175.41 42.3968 Q1175.41 27.8135 1183.31 19.4281 Q1191.21 11.0023 1204.94 11.0023 Q1210.37 11.0023 1215.15 12.4606 Q1219.97 13.8784 1224.19 16.7545 Z\" fill=\"#000000\" fill-rule=\"evenodd\" fill-opacity=\"1\" /><path clip-path=\"url(#clip410)\" d=\"M1295.52 28.9478 L1295.52 35.9153 Q1292.36 34.1734 1289.16 33.3227 Q1286 32.4315 1282.76 32.4315 Q1275.51 32.4315 1271.5 37.0496 Q1267.49 41.6271 1267.49 49.9314 Q1267.49 58.2358 1271.5 62.8538 Q1275.51 67.4314 1282.76 67.4314 Q1286 67.4314 1289.16 66.5807 Q1292.36 65.6895 1295.52 63.9476 L1295.52 70.8341 Q1292.4 72.2924 1289.04 73.0216 Q1285.72 73.7508 1281.95 73.7508 Q1271.7 73.7508 1265.67 67.3098 Q1259.63 60.8689 1259.63 49.9314 Q1259.63 38.832 1265.71 32.472 Q1271.82 26.1121 1282.44 26.1121 Q1285.88 26.1121 1289.16 26.8413 Q1292.44 27.5299 1295.52 28.9478 Z\" fill=\"#000000\" fill-rule=\"evenodd\" fill-opacity=\"1\" /><path clip-path=\"url(#clip410)\" d=\"M1307.71 54.671 L1307.71 27.2059 L1315.17 27.2059 L1315.17 54.3874 Q1315.17 60.8284 1317.68 64.0691 Q1320.19 67.2693 1325.21 67.2693 Q1331.25 67.2693 1334.73 63.421 Q1338.26 59.5726 1338.26 52.9291 L1338.26 27.2059 L1345.71 27.2059 L1345.71 72.576 L1338.26 72.576 L1338.26 65.6084 Q1335.54 69.7404 1331.94 71.7658 Q1328.37 73.7508 1323.64 73.7508 Q1315.82 73.7508 1311.77 68.8897 Q1307.71 64.0286 1307.71 54.671 M1326.47 26.1121 L1326.47 26.1121 Z\" fill=\"#000000\" fill-rule=\"evenodd\" fill-opacity=\"1\" /><path clip-path=\"url(#clip410)\" d=\"M1387.36 34.1734 Q1386.1 33.4443 1384.6 33.1202 Q1383.14 32.7556 1381.36 32.7556 Q1375.04 32.7556 1371.64 36.8875 Q1368.28 40.9789 1368.28 48.6757 L1368.28 72.576 L1360.78 72.576 L1360.78 27.2059 L1368.28 27.2059 L1368.28 34.2544 Q1370.63 30.1225 1374.39 28.1376 Q1378.16 26.1121 1383.55 26.1121 Q1384.32 26.1121 1385.25 26.2337 Q1386.18 26.3147 1387.32 26.5172 L1387.36 34.1734 Z\" fill=\"#000000\" fill-rule=\"evenodd\" fill-opacity=\"1\" /><path clip-path=\"url(#clip410)\" d=\"M1389.83 27.2059 L1397.73 27.2059 L1411.9 65.2844 L1426.08 27.2059 L1433.98 27.2059 L1416.97 72.576 L1406.84 72.576 L1389.83 27.2059 Z\" fill=\"#000000\" fill-rule=\"evenodd\" fill-opacity=\"1\" /><path clip-path=\"url(#clip410)\" d=\"M1483.08 48.0275 L1483.08 51.6733 L1448.81 51.6733 Q1449.29 59.3701 1453.43 63.421 Q1457.6 67.4314 1465.01 67.4314 Q1469.31 67.4314 1473.32 66.3781 Q1477.37 65.3249 1481.34 63.2184 L1481.34 70.267 Q1477.33 71.9684 1473.11 72.8596 Q1468.9 73.7508 1464.57 73.7508 Q1453.71 73.7508 1447.35 67.4314 Q1441.03 61.1119 1441.03 50.3365 Q1441.03 39.1965 1447.03 32.6746 Q1453.06 26.1121 1463.27 26.1121 Q1472.42 26.1121 1477.73 32.0264 Q1483.08 37.9003 1483.08 48.0275 M1475.62 45.84 Q1475.54 39.7232 1472.18 36.0774 Q1468.86 32.4315 1463.35 32.4315 Q1457.11 32.4315 1453.34 35.9558 Q1449.62 39.4801 1449.05 45.8805 L1475.62 45.84 Z\" fill=\"#000000\" fill-rule=\"evenodd\" fill-opacity=\"1\" /><polyline clip-path=\"url(#clip412)\" style=\"stroke:#009af9; stroke-linecap:butt; stroke-linejoin:round; stroke-width:4; stroke-opacity:1; fill:none\" points=\"\n",
       "  247.59,1447.87 608.269,264.913 2291.44,162.047 \n",
       "  \"/>\n",
       "<path clip-path=\"url(#clip410)\" d=\"\n",
       "M1987.39 272.585 L2280.54 272.585 L2280.54 168.905 L1987.39 168.905  Z\n",
       "  \" fill=\"#ffffff\" fill-rule=\"evenodd\" fill-opacity=\"1\"/>\n",
       "<polyline clip-path=\"url(#clip410)\" style=\"stroke:#000000; stroke-linecap:butt; stroke-linejoin:round; stroke-width:4; stroke-opacity:1; fill:none\" points=\"\n",
       "  1987.39,272.585 2280.54,272.585 2280.54,168.905 1987.39,168.905 1987.39,272.585 \n",
       "  \"/>\n",
       "<polyline clip-path=\"url(#clip410)\" style=\"stroke:#009af9; stroke-linecap:butt; stroke-linejoin:round; stroke-width:4; stroke-opacity:1; fill:none\" points=\"\n",
       "  2011.46,220.745 2155.89,220.745 \n",
       "  \"/>\n",
       "<path clip-path=\"url(#clip410)\" d=\"M2193.81 240.432 Q2192 245.062 2190.29 246.474 Q2188.58 247.886 2185.71 247.886 L2182.3 247.886 L2182.3 244.321 L2184.8 244.321 Q2186.56 244.321 2187.53 243.488 Q2188.51 242.654 2189.69 239.552 L2190.45 237.608 L2179.97 212.099 L2184.48 212.099 L2192.58 232.377 L2200.68 212.099 L2205.2 212.099 L2193.81 240.432 Z\" fill=\"#000000\" fill-rule=\"evenodd\" fill-opacity=\"1\" /><path clip-path=\"url(#clip410)\" d=\"M2212.49 234.089 L2220.13 234.089 L2220.13 207.724 L2211.82 209.391 L2211.82 205.131 L2220.08 203.465 L2224.76 203.465 L2224.76 234.089 L2232.4 234.089 L2232.4 238.025 L2212.49 238.025 L2212.49 234.089 Z\" fill=\"#000000\" fill-rule=\"evenodd\" fill-opacity=\"1\" /></svg>\n"
      ]
     },
     "execution_count": 17,
     "metadata": {},
     "output_type": "execute_result"
    }
   ],
   "source": [
    "@sk_import metrics : roc_curve\n",
    "fpr, tpr, thresholds = roc_curve(y_val, prediction_classKNN)\n",
    "plot(fpr, tpr)\n",
    "title!(\"ROC curve\")"
   ]
  },
  {
   "cell_type": "markdown",
   "id": "0036e619",
   "metadata": {},
   "source": [
    "Podemos ver que el modelo nos da una buena curva ROC con los datos de validacion"
   ]
  }
 ],
 "metadata": {
  "@webio": {
   "lastCommId": null,
   "lastKernelId": null
  },
  "kernelspec": {
   "display_name": "Julia 1.7.2",
   "language": "julia",
   "name": "julia-1.7"
  },
  "language_info": {
   "file_extension": ".jl",
   "mimetype": "application/julia",
   "name": "julia",
   "version": "1.7.2"
  }
 },
 "nbformat": 4,
 "nbformat_minor": 5
}
