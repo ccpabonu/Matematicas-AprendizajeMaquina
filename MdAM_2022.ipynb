{
  "nbformat": 4,
  "nbformat_minor": 0,
  "metadata": {
    "colab": {
      "name": "MdAM 2022.ipynb",
      "provenance": [],
      "toc_visible": true,
      "include_colab_link": true
    },
    "kernelspec": {
      "name": "python3",
      "display_name": "Python 3"
    },
    "language_info": {
      "name": "python"
    }
  },
  "cells": [
    {
      "cell_type": "markdown",
      "metadata": {
        "id": "view-in-github",
        "colab_type": "text"
      },
      "source": [
        "<a href=\"https://colab.research.google.com/github/ccpabonu/Matematicas-AprendizajeMaquina/blob/main/MdAM_2022.ipynb\" target=\"_parent\"><img src=\"https://colab.research.google.com/assets/colab-badge.svg\" alt=\"Open In Colab\"/></a>"
      ]
    },
    {
      "cell_type": "markdown",
      "metadata": {
        "id": "jPTmuve7BTtj"
      },
      "source": [
        "\n",
        "<h3><center>Matemáticas del Aprendizaje de Máquina</center>\n",
        "<center>2022-I</center>\n",
        "<center>Christian Camilo Pabón Useche</center>\n",
        "<center>ccpabonu@unal.edu.co</center></h3>"
      ]
    },
    {
      "cell_type": "markdown",
      "metadata": {
        "id": "LWcqkqftCjha"
      },
      "source": [
        "# Ejercicio 1\n",
        "Exercice 1.2\n",
        "\n",
        "Supongamos que usamos un perceptron para detectar mensajes de spam.  Digamos que cada mensaje de correo electrónico está representado por la frecuencia de aparición de palabras clave, y el resultado es +1 si el mensaje se considera spam."
      ]
    },
    {
      "cell_type": "markdown",
      "metadata": {
        "id": "TaAy6xU9ULvT"
      },
      "source": [
        "a) ¿Puede pensar en algunas palabras clave que terminarán con un gran peso positivo en el perceptrón?\n",
        "\n",
        "Obsequio, Lotería, Regalo,Juegos Gratis, Bono de Bienvenida, Cupón de oferta, Gratis, Fortuna, Dinero fácil/extra, Felicidades, Urgente, Desesperado, Ayuda por favor, Sexo, Conoce solteros, Elimina arrugas, Pierde peso...\n"
      ]
    },
    {
      "cell_type": "markdown",
      "metadata": {
        "id": "tQl3QgcsUPb1"
      },
      "source": [
        "(b) ¿Qué hay de las palabras clave que obtendrán un peso negativo? \n",
        "\n",
        "Buenos días/tardes, Nombre del receptor, Universidad, Profesor, Jefe, Trabajo...\n"
      ]
    },
    {
      "cell_type": "markdown",
      "metadata": {
        "id": "x0P_ONEbUShA"
      },
      "source": [
        "(c) ¿Qué parámetro del perceptrón afecta directamente a cuántos mensajes límite terminan siendo clasificados como spam?\n",
        "\n",
        "Teniendo en cuenta que el perceptrón se puede ver como:\n",
        "$$h(x)=sign\\Bigg(\\Bigg(\\sum^d_{i=1}\\Bigg)+b\\Bigg)$$\n",
        "Entonces el párametro que afecta directamente a cuántos mensajes límite terminan siendo clasificados como spam es $b$."
      ]
    },
    {
      "cell_type": "markdown",
      "metadata": {
        "id": "5CfB1V1kC5SP"
      },
      "source": [
        "# Ejercicio 2\n",
        "Exercice 1.3\n",
        "\n",
        "La regla de actualización de peso $w(t+1)=w(t)+y(t)x(t)$ tiene la buena interpretación de que se mueve en la dirección de clasificar $x(t)$ correctamente."
      ]
    },
    {
      "cell_type": "markdown",
      "metadata": {
        "id": "C2hl-kDSw8_c"
      },
      "source": [
        "(a) Muestre que $y(t)w^T(t)x(t)< 0$   [Sugerencia: $x(t)$ está mal clasificado por $w(t)$.] \n",
        "\n",
        "Como $x(t)$ está mal clasificado por $w(t)$ entonces $\\operatorname{sign} (w^T(t)x(t))\\ne \\operatorname{sign}y(t)$ así, $y(t)w^T(t)x(t)< 0$."
      ]
    },
    {
      "cell_type": "markdown",
      "metadata": {
        "id": "a2ULWYjMw-17"
      },
      "source": [
        "(b) Muestre que $y(t)w^T(t+1)x(t)>y(t)w^T(t)x(t)$ [Sugerencia: Utilice $w(t+1)=w(t)+y(t)x(t)$.] \n",
        "\n",
        "$$\n",
        "\\left.\n",
        "    \\begin{array}\\\\\n",
        "        y(t)w^T(t)x(t) &< y(t)w^T(t)x(t) + y(t)(y(t)x(t))^Tx(t)\\\\\n",
        "        &=(y(t)w(t)^T+y(t)(y(t)x(t))^T)x(t)\\\\\n",
        "        &=y(t)(w(t)+y(t)x(t))^Tx(t)\\\\\n",
        "        &=y(t)w^T(t+1)x(t)\n",
        "    \\end{array}\n",
        "\\right.\n",
        "$$"
      ]
    },
    {
      "cell_type": "markdown",
      "metadata": {
        "id": "IBdrm89xxBc5"
      },
      "source": [
        "\n",
        "(c) En lo que respecta a la clasificación de $x(t)$, argumente que el movimiento de  $w(t)$ a $w(t+1)$ es un movimiento \"en la dirección correcta\".\n",
        "\n",
        "Teniendo en cuenta que $y(t)w^T(t)x(t)$ es creciente tenemos dos casos: \n",
        "\n",
        "1.   Si $y(t)$ es positivo entonces $w^T(t)x(t)$ es negativo, así al aumentar $y(t)w^T(t)x(t)$, $w^T(t)x(t)$ se mueve positivamente.\n",
        "2.   Si $y(t)$ es negativo entonces $w^T(t)x(t)$ es positivo, así al aumentar $y(t)w^T(t)x(t)$, $w^T(t)x(t)$ se mueve negativamente.\n",
        "\n",
        "Así que el paso de $w(t)$ a $w(t+1)$ es un movimiento \"en la dirección correcta\" respecto a la clasificación de $x(t)$."
      ]
    },
    {
      "cell_type": "markdown",
      "metadata": {
        "id": "3amu9r-HC7uA"
      },
      "source": [
        "# Ejercicio 3\n",
        "Exercice 1.10\n",
        "\n",
        "A continuación, se muestra un experimento que ilustra la diferencia entre un solo contenedor y varios contenedores.  Ejecute una simulación por computadora para lanzar 1,000 monedas justas.  Lanza cada moneda de forma independiente 10 veces.  Centrémonos en 3 monedas de la siguiente manera: $c_1$ es la primera moneda lanzada;  $c_{rand}$ es una moneda que eliges al azar;  $c_{min}$ es la moneda que tuvo la menor frecuencia de caras (elija la primera en aparecer en caso de empate).  Sea $v_1$, $v_{rand}$ y $v_{min}$ la fracción de caras que obtenga por las tres monedas respectivas."
      ]
    },
    {
      "cell_type": "markdown",
      "metadata": {
        "id": "P40xvoKEm7Dl"
      },
      "source": [
        "(a) ¿Cuál es $\\mu$ para las tres monedas seleccionadas?  "
      ]
    },
    {
      "cell_type": "code",
      "metadata": {
        "colab": {
          "base_uri": "https://localhost:8080/"
        },
        "id": "GV2hWf4FQR7F",
        "outputId": "1f76a536-0dab-45f1-bbf5-75069349a36a"
      },
      "source": [
        "import numpy as np\n",
        "import matplotlib.pyplot as plt\n",
        "import math\n",
        "\n",
        "def flipCoinsFreq(nCoins,nTrials):\n",
        "  numHeads = np.zeros(nCoins)\n",
        "  for i in range(nTrials):\n",
        "    # va sumando si obtiene cara o no en cada tirada\n",
        "    numHeads += np.random.binomial(1,0.5,nCoins)\n",
        "\n",
        "  # se calcula la frecuencia de caras de cada moneda\n",
        "  headFreq = numHeads/nTrials\n",
        "\n",
        "  # se escogen las frecuencias de las monedas \"especiales\"\n",
        "  v_1 = headFreq[0]\n",
        "  v_min = np.min(headFreq)\n",
        "  v_rand = np.random.choice(headFreq)\n",
        "\n",
        "  # se calcula el mu\n",
        "  mu = (v_1+v_min+v_rand)/3  \n",
        "\n",
        "  return v_1, v_min, v_rand, mu\n",
        "\n",
        "v_1,v_min,v_rand,mu = flipCoinsFreq(1000,10)\n",
        "print(\"La frecuencia de la primera moneda es: \",v_1)\n",
        "print(\"La frecuencia menor es: \",v_min)\n",
        "print(\"La frecuencia de una moneda aleatoria es: \",v_rand)\n",
        "print(\"El promedio de estas tres frecuencias es (mu): \",mu)"
      ],
      "execution_count": null,
      "outputs": [
        {
          "output_type": "stream",
          "text": [
            "La frecuencia de la primera moneda es:  0.9\n",
            "La frecuencia menor es:  0.0\n",
            "La frecuencia de una moneda aleatoria es:  0.6\n",
            "El promedio de estas tres frecuencias es (mu):  0.5\n"
          ],
          "name": "stdout"
        }
      ]
    },
    {
      "cell_type": "markdown",
      "metadata": {
        "id": "qxP0QSudm9gK"
      },
      "source": [
        "(b) Repita todo este experimento un gran número de veces (por ejemplo, 100, 000 ejecuciones de todo el experimento) para obtener varias instancias de $v_1$, $v_{rand}$ y $v_{min}$ y trazar los histogramas de las distribuciones de $v_1$, $v_{rand}$ y $v_{min}$. Tenga en cuenta que las monedas que terminan en $c_{rand}$ y $c_{min}$, pueden diferir de una ejecución a otra"
      ]
    },
    {
      "cell_type": "code",
      "metadata": {
        "colab": {
          "base_uri": "https://localhost:8080/",
          "height": 316
        },
        "id": "1LYVissCXTVq",
        "outputId": "e81df091-4887-47f6-90f2-8eb2d2c5cac2"
      },
      "source": [
        "v_1s = []\n",
        "v_mins = []\n",
        "v_rands = []\n",
        "\n",
        "for i in range(100000):\n",
        "  # se calculan las frecuencias para luego guardarlas\n",
        "  v_1Aux,v_minAux,v_randAux,mu = flipCoinsFreq(1000,10)  \n",
        "  v_1s.append(v_1Aux)\n",
        "  v_mins.append(v_minAux)\n",
        "  v_rands.append(v_randAux)\n",
        "\n",
        "fig, axs = plt.subplots(1, 3, sharey=True, tight_layout=True,sharex=True)\n",
        "axs[0].hist(v_1s, bins=10)\n",
        "axs[0].set_xlabel('v_1s')\n",
        "axs[1].hist(v_rands,bins=10)\n",
        "axs[1].set_xlabel('v_rands')\n",
        "axs[2].hist(v_mins, bins=5)\n",
        "axs[2].set_xlabel('v_mins')"
      ],
      "execution_count": null,
      "outputs": [
        {
          "output_type": "execute_result",
          "data": {
            "text/plain": [
              "Text(0.5, 0, 'v_mins')"
            ]
          },
          "metadata": {
            "tags": []
          },
          "execution_count": 2
        },
        {
          "output_type": "display_data",
          "data": {
            "image/png": "[encoded data removed]",
            "text/plain": [
              "<Figure size 432x288 with 3 Axes>"
            ]
          },
          "metadata": {
            "tags": [],
            "needs_background": "light"
          }
        }
      ]
    },
    {
      "cell_type": "markdown",
      "metadata": {
        "id": "Vgsgq9cCm_w0"
      },
      "source": [
        "(c) Utilizando (b), grafique estimaciones para $\\mathbb{P}[|\\nu-\\mu|>\\epsilon]$ como una función de $\\epsilon$, junto con el límite de Hoeffding $2e^{-2\\epsilon^2N}$ (en el mismo gráfico). "
      ]
    },
    {
      "cell_type": "code",
      "metadata": {
        "colab": {
          "base_uri": "https://localhost:8080/"
        },
        "id": "o28y_SYPb1nm",
        "outputId": "b5829679-97dd-4d02-fdc5-95d55b743a6f"
      },
      "source": [
        "def limHoeffding(e,n):\n",
        "  return 2*np.exp(-2*n*e**2)\n",
        "  \n",
        "e = np.arange(0.1,0.5,0.05)\n",
        "g_1 = np.zeros(len(e))\n",
        "g_rand = np.zeros(len(e))\n",
        "g_min = np.zeros(len(e))\n",
        "hoeffding = limHoeffding(e,10)\n",
        "\n",
        "# se calculan las estimaciones\n",
        "for i in range(len(e)):\n",
        "  g_1[i]=np.sum(np.abs(np.array(v_1s)-0.5)>e[i])/100000\n",
        "  g_rand[i]=np.sum(np.abs(np.array(v_rands)-0.5)>e[i])/100000\n",
        "  g_min[i]=np.sum(np.abs(np.array(v_mins)-0.5)>e[i])/100000\n",
        "\n",
        "plt.plot(e, g_1,  color='r',label='Primera moneda')\n",
        "plt.plot(e, g_rand, color='g',label='Moneada aleatoria')\n",
        "plt.plot(e, g_min,  color='b',label='Moneda con menor frecuencia')\n",
        "plt.plot(e, hoeffding, color='y', label='Cota de Hoeffding')\n",
        "plt.legend()"
      ],
      "execution_count": null,
      "outputs": [
        {
          "output_type": "execute_result",
          "data": {
            "text/plain": [
              "<matplotlib.legend.Legend at 0x7f0b441b5950>"
            ]
          },
          "metadata": {
            "tags": []
          },
          "execution_count": 3
        },
        {
          "output_type": "display_data",
          "data": {
            "image/png": "[encoded data removed]",
            "text/plain": [
              "<Figure size 432x288 with 1 Axes>"
            ]
          },
          "metadata": {
            "tags": [],
            "needs_background": "light"
          }
        }
      ]
    },
    {
      "cell_type": "markdown",
      "metadata": {
        "id": "ofedLQKEnC9-"
      },
      "source": [
        "(d) Qué monedas obedecen al límite de Hoeffding y cuáles no. Explique por qué. \n",
        "\n",
        "Las monedas $c_1$ y $c_{rand}$ van a obedecer el límite de Hoeffding, porque son escogidas antes de generar los datos, a diferencia  $c_{min}$ la cual es escogida después de evaluar todos los datos dependiendo de ellos."
      ]
    },
    {
      "cell_type": "markdown",
      "metadata": {
        "id": "lkDoeE8SreWe"
      },
      "source": [
        "(e) Relacione la parte (d) con los múltiples contenedores de la figura 1.10.\n",
        "\n",
        "Tomar $h_i$ con menos errores dentro de la muestra, es como tomar $c_{min}$, pero esto no es garantía de que vaya a actuar igual en todos los casos."
      ]
    },
    {
      "cell_type": "markdown",
      "metadata": {
        "id": "_thfVlTkC8F-"
      },
      "source": [
        "# Ejercicio 4\n",
        "\n",
        "Exercice 1.11\n",
        "\n",
        "Se nos proporciona un conjunto de datos $D$ de 25 ejemplos de entrenamiento de una función objetivo desconocida $f: X \\rightarrow Y,$ donde $X = \\mathbb{R}$ y $Y =\\{-1, +1\\}$.  Para aprender $f$, usamos un conjunto de hipótesis simple $H = \\{h_1, ​​h_2\\}$ donde $h_1$ es la función constante +1 y $h_2$ es la constante -1.  \n",
        "\n",
        "Consideramos dos algoritmos de aprendizaje, $S$ (inteligente) y $C$ (loco).  $S$ elige la hipótesis que más concuerda con $D$ y $C$ elige la otra hipótesis deliberadamente.  Veamos cómo funcionan estos algoritmos fuera de la muestra desde los puntos de vista determinista y probabilístico.  Suponga en el punto de vista probabilístico que hay una distribución de probabilidad en $X$ y sea $\\mathbb{P}[f (x) = +1] = p$."
      ]
    },
    {
      "cell_type": "markdown",
      "metadata": {
        "id": "inZHOyJ2IZ_q"
      },
      "source": [
        "(a) ¿Puede $S$ producir una hipótesis que esté garantizada para funcionar mejor que la aleatoria en cualquier punto fuera de $D$?  \n",
        "\n",
        "No se puede estar seguro porque los puntos de afuera de $D$ pueden estar actuando muy diferente a los escogidos en la muestra."
      ]
    },
    {
      "cell_type": "markdown",
      "metadata": {
        "id": "4Z6ux6ikIbsT"
      },
      "source": [
        "(b) Suponga para el resto del ejercicio que todos los ejemplos en $D$ tienen $y_n =+ 1$.  ¿Es posible que la hipótesis que produce $C$ resulte ser mejor que la hipótesis que produce $S$? \n",
        "\n",
        "Si, $C$ tienes una probabilidad de $1/2$ en acertar en los puntos fuera de $D$."
      ]
    },
    {
      "cell_type": "markdown",
      "metadata": {
        "id": "cTLwb9XuIdWT"
      },
      "source": [
        " (c) Si $p = 0.9$, ¿cuál es la probabilidad de que $S$ produzca una hipótesis mejor que $C$?  \n",
        "\n",
        "$S$ acertaría en un $90\\%$ y $C$ un $10\\%$."
      ]
    },
    {
      "cell_type": "markdown",
      "metadata": {
        "id": "Odrmxk0uIevx"
      },
      "source": [
        "(d) ¿Existe algún valor de $p$ para el que sea más probable que $C$ produzca una hipótesis mejor que $S$?\n",
        "\n",
        "Si $p<0.5$ entonces $C$ tendría una probabilidad moyor o igual a $50\\%$."
      ]
    },
    {
      "cell_type": "markdown",
      "metadata": {
        "id": "moF44N5qtMvh"
      },
      "source": [
        "# Ejercicio 5\n",
        "Exercice 1.12\n",
        "\n",
        "Una amiga se le acerca con un problema de aprendizaje. Ella dice que la función objetivo $f$ es completamente desconocida, pero tiene 4,000 puntos de datos.  Ella está dispuesta a pagarte para que resuelvas su problema y le produzca una $g$ que se aproxime a $f$.  ¿Qué es lo mejor que puede prometerle entre los siguientes:\n",
        "\n",
        "*   (a) Después de aprender, le proporcionará $g$ que garantizará aproximadamente $f$ bien fuera de la muestra \n",
        "\n",
        "*   (b) Después de aprender, le proporcionará una $g$, y con una alta probabilidad de que la $g$ que produzca se aproximará bastante a $f$ fuera de la muestra. \n",
        "\n",
        "*   (c) Sucederá una de dos cosas.\n",
        "  1.   Producirá una hipótesis $g$;\n",
        "  2.   Declarará que fracasó.\n",
        "\n",
        "  Si devuelve una hipótesis $g$, entonces con alta probabilidad la $g$ que produzca se aproximará a $f$ muy fuera de la muestra.\n",
        "\n",
        "\n"
      ]
    },
    {
      "cell_type": "markdown",
      "metadata": {
        "id": "n6ZTRiisrlFU"
      },
      "source": [
        "En estos casos no sabemos qué tan compleja puede ser $f$ y si lo fuera no se podrá aprender del todo. Pero al tener una gran cantidad de datos se prodrían generar muy buenos entrenamientos que aseguren que $g$ se aproxime bien fuera de las muestras. Así que lo que le prometo es (c).\n",
        "\n",
        "\n"
      ]
    }
  ]
}